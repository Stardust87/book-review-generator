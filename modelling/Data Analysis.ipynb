{
 "cells": [
  {
   "cell_type": "code",
   "execution_count": 1,
   "metadata": {},
   "outputs": [],
   "source": [
    "import numpy as np\n",
    "import pandas as pd\n",
    "import matplotlib.pyplot as plt\n",
    "import seaborn as sns\n",
    "\n",
    "%matplotlib inline\n",
    "%config InlineBackend.figure_format='retina'"
   ]
  },
  {
   "cell_type": "code",
   "execution_count": 70,
   "metadata": {},
   "outputs": [],
   "source": [
    "reviews_df = pd.read_csv('../data/reviews.csv')\n",
    "books_df = pd.read_csv('../data/books.csv')"
   ]
  },
  {
   "cell_type": "code",
   "execution_count": 3,
   "metadata": {},
   "outputs": [
    {
     "data": {
      "text/html": [
       "<div>\n",
       "<style scoped>\n",
       "    .dataframe tbody tr th:only-of-type {\n",
       "        vertical-align: middle;\n",
       "    }\n",
       "\n",
       "    .dataframe tbody tr th {\n",
       "        vertical-align: top;\n",
       "    }\n",
       "\n",
       "    .dataframe thead th {\n",
       "        text-align: right;\n",
       "    }\n",
       "</style>\n",
       "<table border=\"1\" class=\"dataframe\">\n",
       "  <thead>\n",
       "    <tr style=\"text-align: right;\">\n",
       "      <th></th>\n",
       "      <th>book_id</th>\n",
       "      <th>user_id</th>\n",
       "      <th>user_rating</th>\n",
       "      <th>user_review</th>\n",
       "    </tr>\n",
       "  </thead>\n",
       "  <tbody>\n",
       "    <tr>\n",
       "      <th>432531</th>\n",
       "      <td>1</td>\n",
       "      <td>34621</td>\n",
       "      <td>5</td>\n",
       "      <td>None</td>\n",
       "    </tr>\n",
       "    <tr>\n",
       "      <th>518910</th>\n",
       "      <td>1</td>\n",
       "      <td>40749</td>\n",
       "      <td>5</td>\n",
       "      <td>None</td>\n",
       "    </tr>\n",
       "    <tr>\n",
       "      <th>19180</th>\n",
       "      <td>1</td>\n",
       "      <td>112687</td>\n",
       "      <td>4</td>\n",
       "      <td>None</td>\n",
       "    </tr>\n",
       "    <tr>\n",
       "      <th>767585</th>\n",
       "      <td>1</td>\n",
       "      <td>6525904</td>\n",
       "      <td>5</td>\n",
       "      <td>None</td>\n",
       "    </tr>\n",
       "    <tr>\n",
       "      <th>475564</th>\n",
       "      <td>1</td>\n",
       "      <td>3536464</td>\n",
       "      <td>5</td>\n",
       "      <td>None</td>\n",
       "    </tr>\n",
       "  </tbody>\n",
       "</table>\n",
       "</div>"
      ],
      "text/plain": [
       "        book_id  user_id  user_rating user_review\n",
       "432531        1    34621            5        None\n",
       "518910        1    40749            5        None\n",
       "19180         1   112687            4        None\n",
       "767585        1  6525904            5        None\n",
       "475564        1  3536464            5        None"
      ]
     },
     "execution_count": 3,
     "metadata": {},
     "output_type": "execute_result"
    }
   ],
   "source": [
    "reviews_df.sort_values(by='book_id').head(5)"
   ]
  },
  {
   "cell_type": "code",
   "execution_count": 10,
   "metadata": {},
   "outputs": [
    {
     "data": {
      "text/plain": [
       "<matplotlib.axes._subplots.AxesSubplot at 0x210c7fff488>"
      ]
     },
     "execution_count": 10,
     "metadata": {},
     "output_type": "execute_result"
    },
    {
     "data": {
      "image/png": "[encoded data removed]",
      "text/plain": [
       "<Figure size 432x288 with 1 Axes>"
      ]
     },
     "metadata": {
      "image/png": {
       "height": 248,
       "width": 375
      },
      "needs_background": "light"
     },
     "output_type": "display_data"
    }
   ],
   "source": [
    "books_popularity = reviews_df.groupby(['book_id']).count()['user_id']\n",
    "sns.distplot(books_popularity[books_popularity > 100].values, kde=False)"
   ]
  },
  {
   "cell_type": "code",
   "execution_count": 18,
   "metadata": {},
   "outputs": [
    {
     "data": {
      "text/plain": [
       "22936"
      ]
     },
     "execution_count": 18,
     "metadata": {},
     "output_type": "execute_result"
    }
   ],
   "source": [
    "np.sum(books_popularity > 1)"
   ]
  },
  {
   "cell_type": "code",
   "execution_count": 12,
   "metadata": {},
   "outputs": [
    {
     "data": {
      "text/plain": [
       "<matplotlib.axes._subplots.AxesSubplot at 0x210c8217b08>"
      ]
     },
     "execution_count": 12,
     "metadata": {},
     "output_type": "execute_result"
    },
    {
     "data": {
      "image/png": "[encoded data removed]",
      "text/plain": [
       "<Figure size 432x288 with 1 Axes>"
      ]
     },
     "metadata": {
      "image/png": {
       "height": 248,
       "width": 393
      },
      "needs_background": "light"
     },
     "output_type": "display_data"
    }
   ],
   "source": [
    "reviews_per_user = reviews_df.groupby(['user_id']).count()['book_id']\n",
    "sns.distplot(reviews_per_user.values, kde=False)"
   ]
  },
  {
   "cell_type": "code",
   "execution_count": 33,
   "metadata": {},
   "outputs": [
    {
     "data": {
      "text/html": [
       "<div>\n",
       "<style scoped>\n",
       "    .dataframe tbody tr th:only-of-type {\n",
       "        vertical-align: middle;\n",
       "    }\n",
       "\n",
       "    .dataframe tbody tr th {\n",
       "        vertical-align: top;\n",
       "    }\n",
       "\n",
       "    .dataframe thead th {\n",
       "        text-align: right;\n",
       "    }\n",
       "</style>\n",
       "<table border=\"1\" class=\"dataframe\">\n",
       "  <thead>\n",
       "    <tr style=\"text-align: right;\">\n",
       "      <th></th>\n",
       "      <th>book_id</th>\n",
       "      <th>user_id</th>\n",
       "      <th>user_rating</th>\n",
       "      <th>user_review</th>\n",
       "    </tr>\n",
       "  </thead>\n",
       "  <tbody>\n",
       "    <tr>\n",
       "      <th>39897</th>\n",
       "      <td>10</td>\n",
       "      <td>1627164</td>\n",
       "      <td>4</td>\n",
       "      <td>None</td>\n",
       "    </tr>\n",
       "    <tr>\n",
       "      <th>150382</th>\n",
       "      <td>10</td>\n",
       "      <td>4190</td>\n",
       "      <td>5</td>\n",
       "      <td>yes, i had to post these. you can read them ea...</td>\n",
       "    </tr>\n",
       "    <tr>\n",
       "      <th>153499</th>\n",
       "      <td>10</td>\n",
       "      <td>4674</td>\n",
       "      <td>5</td>\n",
       "      <td>None</td>\n",
       "    </tr>\n",
       "    <tr>\n",
       "      <th>155399</th>\n",
       "      <td>10</td>\n",
       "      <td>5</td>\n",
       "      <td>4</td>\n",
       "      <td>Come-on! It's Harry Potter!</td>\n",
       "    </tr>\n",
       "    <tr>\n",
       "      <th>170956</th>\n",
       "      <td>10</td>\n",
       "      <td>550</td>\n",
       "      <td>5</td>\n",
       "      <td>No explanation needed......</td>\n",
       "    </tr>\n",
       "    <tr>\n",
       "      <th>193903</th>\n",
       "      <td>10</td>\n",
       "      <td>689</td>\n",
       "      <td>5</td>\n",
       "      <td>None</td>\n",
       "    </tr>\n",
       "    <tr>\n",
       "      <th>199722</th>\n",
       "      <td>10</td>\n",
       "      <td>7818</td>\n",
       "      <td>5</td>\n",
       "      <td>Who can resist Harry? So sad the magic is comi...</td>\n",
       "    </tr>\n",
       "  </tbody>\n",
       "</table>\n",
       "</div>"
      ],
      "text/plain": [
       "        book_id  user_id  user_rating  \\\n",
       "39897        10  1627164            4   \n",
       "150382       10     4190            5   \n",
       "153499       10     4674            5   \n",
       "155399       10        5            4   \n",
       "170956       10      550            5   \n",
       "193903       10      689            5   \n",
       "199722       10     7818            5   \n",
       "\n",
       "                                              user_review  \n",
       "39897                                                None  \n",
       "150382  yes, i had to post these. you can read them ea...  \n",
       "153499                                               None  \n",
       "155399                        Come-on! It's Harry Potter!  \n",
       "170956                        No explanation needed......  \n",
       "193903                                               None  \n",
       "199722  Who can resist Harry? So sad the magic is comi...  "
      ]
     },
     "execution_count": 33,
     "metadata": {},
     "output_type": "execute_result"
    }
   ],
   "source": [
    "reviews_df[reviews_df['book_id'] == 10]"
   ]
  },
  {
   "cell_type": "code",
   "execution_count": 72,
   "metadata": {},
   "outputs": [
    {
     "data": {
      "text/html": [
       "<div>\n",
       "<style scoped>\n",
       "    .dataframe tbody tr th:only-of-type {\n",
       "        vertical-align: middle;\n",
       "    }\n",
       "\n",
       "    .dataframe tbody tr th {\n",
       "        vertical-align: top;\n",
       "    }\n",
       "\n",
       "    .dataframe thead th {\n",
       "        text-align: right;\n",
       "    }\n",
       "</style>\n",
       "<table border=\"1\" class=\"dataframe\">\n",
       "  <thead>\n",
       "    <tr style=\"text-align: right;\">\n",
       "      <th></th>\n",
       "      <th>id</th>\n",
       "      <th>best_id</th>\n",
       "      <th>title</th>\n",
       "      <th>author</th>\n",
       "      <th>description</th>\n",
       "      <th>year</th>\n",
       "      <th>num_pages</th>\n",
       "      <th>format</th>\n",
       "      <th>media_type</th>\n",
       "      <th>language</th>\n",
       "      <th>image_url</th>\n",
       "      <th>average_rating</th>\n",
       "      <th>rating_dist</th>\n",
       "      <th>ratings_count</th>\n",
       "      <th>text_reviews_count</th>\n",
       "      <th>shelves</th>\n",
       "    </tr>\n",
       "  </thead>\n",
       "  <tbody>\n",
       "    <tr>\n",
       "      <th>0</th>\n",
       "      <td>1</td>\n",
       "      <td>1</td>\n",
       "      <td>Harry Potter and the Half-Blood Prince (Harry ...</td>\n",
       "      <td>J.K. Rowling</td>\n",
       "      <td>The war against Voldemort is not going well; e...</td>\n",
       "      <td>2005.0</td>\n",
       "      <td>652.0</td>\n",
       "      <td>Paperback</td>\n",
       "      <td>book</td>\n",
       "      <td>eng</td>\n",
       "      <td>https://i.gr-assets.com/images/S/compressed.ph...</td>\n",
       "      <td>4.57</td>\n",
       "      <td>5:1598220|4:570051|3:163397|2:25942|1:10453|to...</td>\n",
       "      <td>2368063</td>\n",
       "      <td>38135</td>\n",
       "      <td>{\"fantasy\": 46663, \"favorites\": 39215, \"young-...</td>\n",
       "    </tr>\n",
       "    <tr>\n",
       "      <th>1</th>\n",
       "      <td>10</td>\n",
       "      <td>10</td>\n",
       "      <td>Harry Potter Collection (Harry Potter, #1-6)</td>\n",
       "      <td>J.K. Rowling</td>\n",
       "      <td>Six years of magic, adventure, and mystery mak...</td>\n",
       "      <td>2005.0</td>\n",
       "      <td>3342.0</td>\n",
       "      <td>Hardcover</td>\n",
       "      <td>book</td>\n",
       "      <td>eng</td>\n",
       "      <td>https://i.gr-assets.com/images/S/compressed.ph...</td>\n",
       "      <td>4.73</td>\n",
       "      <td>5:24710|4:4399|3:1086|2:217|1:267|total:30679</td>\n",
       "      <td>30679</td>\n",
       "      <td>939</td>\n",
       "      <td>{\"favorites\": 373, \"fantasy\": 283, \"fiction\": ...</td>\n",
       "    </tr>\n",
       "    <tr>\n",
       "      <th>2</th>\n",
       "      <td>10000191</td>\n",
       "      <td>22319275</td>\n",
       "      <td>Yellow Crocus</td>\n",
       "      <td>Laila Ibrahim</td>\n",
       "      <td>Mattie was never truly mine. That knowledge mu...</td>\n",
       "      <td>2010.0</td>\n",
       "      <td>229.0</td>\n",
       "      <td>Paperback</td>\n",
       "      <td>book</td>\n",
       "      <td>eng</td>\n",
       "      <td>https://s.gr-assets.com/assets/nophoto/book/11...</td>\n",
       "      <td>4.30</td>\n",
       "      <td>5:29248|4:21779|3:7066|2:1349|1:530|total:59972</td>\n",
       "      <td>59972</td>\n",
       "      <td>5434</td>\n",
       "      <td>{\"historical-fiction\": 894, \"fiction\": 377, \"k...</td>\n",
       "    </tr>\n",
       "    <tr>\n",
       "      <th>3</th>\n",
       "      <td>10002296</td>\n",
       "      <td>10002296</td>\n",
       "      <td>Wildflower Hill</td>\n",
       "      <td>Kimberley Freeman</td>\n",
       "      <td>Forced to take her life in a new direction whe...</td>\n",
       "      <td>2010.0</td>\n",
       "      <td>524.0</td>\n",
       "      <td>Paperback</td>\n",
       "      <td>book</td>\n",
       "      <td>en-US</td>\n",
       "      <td>https://i.gr-assets.com/images/S/compressed.ph...</td>\n",
       "      <td>4.08</td>\n",
       "      <td>5:4206|4:5222|3:2138|2:361|1:113|total:12040</td>\n",
       "      <td>12040</td>\n",
       "      <td>1402</td>\n",
       "      <td>{\"historical-fiction\": 211, \"fiction\": 158, \"f...</td>\n",
       "    </tr>\n",
       "    <tr>\n",
       "      <th>4</th>\n",
       "      <td>10006</td>\n",
       "      <td>10006</td>\n",
       "      <td>Oracle Night</td>\n",
       "      <td>Paul Auster</td>\n",
       "      <td>The discovery of a mysterious notebook turns a...</td>\n",
       "      <td>2004.0</td>\n",
       "      <td>245.0</td>\n",
       "      <td>NaN</td>\n",
       "      <td>book</td>\n",
       "      <td>eng</td>\n",
       "      <td>https://i.gr-assets.com/images/S/compressed.ph...</td>\n",
       "      <td>3.79</td>\n",
       "      <td>5:3023|4:5611|3:3745|2:821|1:164|total:13364</td>\n",
       "      <td>13364</td>\n",
       "      <td>810</td>\n",
       "      <td>{\"fiction\": 346, \"favorites\": 91, \"rory-gilmor...</td>\n",
       "    </tr>\n",
       "  </tbody>\n",
       "</table>\n",
       "</div>"
      ],
      "text/plain": [
       "         id   best_id                                              title  \\\n",
       "0         1         1  Harry Potter and the Half-Blood Prince (Harry ...   \n",
       "1        10        10       Harry Potter Collection (Harry Potter, #1-6)   \n",
       "2  10000191  22319275                                      Yellow Crocus   \n",
       "3  10002296  10002296                                    Wildflower Hill   \n",
       "4     10006     10006                                       Oracle Night   \n",
       "\n",
       "              author                                        description  \\\n",
       "0       J.K. Rowling  The war against Voldemort is not going well; e...   \n",
       "1       J.K. Rowling  Six years of magic, adventure, and mystery mak...   \n",
       "2      Laila Ibrahim  Mattie was never truly mine. That knowledge mu...   \n",
       "3  Kimberley Freeman  Forced to take her life in a new direction whe...   \n",
       "4        Paul Auster  The discovery of a mysterious notebook turns a...   \n",
       "\n",
       "     year  num_pages     format media_type language  \\\n",
       "0  2005.0      652.0  Paperback       book      eng   \n",
       "1  2005.0     3342.0  Hardcover       book      eng   \n",
       "2  2010.0      229.0  Paperback       book      eng   \n",
       "3  2010.0      524.0  Paperback       book    en-US   \n",
       "4  2004.0      245.0        NaN       book      eng   \n",
       "\n",
       "                                           image_url  average_rating  \\\n",
       "0  https://i.gr-assets.com/images/S/compressed.ph...            4.57   \n",
       "1  https://i.gr-assets.com/images/S/compressed.ph...            4.73   \n",
       "2  https://s.gr-assets.com/assets/nophoto/book/11...            4.30   \n",
       "3  https://i.gr-assets.com/images/S/compressed.ph...            4.08   \n",
       "4  https://i.gr-assets.com/images/S/compressed.ph...            3.79   \n",
       "\n",
       "                                         rating_dist  ratings_count  \\\n",
       "0  5:1598220|4:570051|3:163397|2:25942|1:10453|to...        2368063   \n",
       "1      5:24710|4:4399|3:1086|2:217|1:267|total:30679          30679   \n",
       "2    5:29248|4:21779|3:7066|2:1349|1:530|total:59972          59972   \n",
       "3       5:4206|4:5222|3:2138|2:361|1:113|total:12040          12040   \n",
       "4       5:3023|4:5611|3:3745|2:821|1:164|total:13364          13364   \n",
       "\n",
       "   text_reviews_count                                            shelves  \n",
       "0               38135  {\"fantasy\": 46663, \"favorites\": 39215, \"young-...  \n",
       "1                 939  {\"favorites\": 373, \"fantasy\": 283, \"fiction\": ...  \n",
       "2                5434  {\"historical-fiction\": 894, \"fiction\": 377, \"k...  \n",
       "3                1402  {\"historical-fiction\": 211, \"fiction\": 158, \"f...  \n",
       "4                 810  {\"fiction\": 346, \"favorites\": 91, \"rory-gilmor...  "
      ]
     },
     "execution_count": 72,
     "metadata": {},
     "output_type": "execute_result"
    }
   ],
   "source": [
    "books_df.head()"
   ]
  },
  {
   "cell_type": "code",
   "execution_count": 73,
   "metadata": {},
   "outputs": [
    {
     "data": {
      "text/plain": [
       "array(['eng', 'en-US', nan, 'en-GB', 'nl', 'per', 'spa', 'fre', 'ara',\n",
       "       'en-CA', 'pol', 'mul', 'ind', 'por', 'ger', 'en', 'rus', 'pes',\n",
       "       'swe', 'jpn', 'enm', '--', 'ita', 'nor', 'tur', 'ira', 'vie'],\n",
       "      dtype=object)"
      ]
     },
     "execution_count": 73,
     "metadata": {},
     "output_type": "execute_result"
    }
   ],
   "source": [
    "books_df.language.unique()"
   ]
  },
  {
   "cell_type": "code",
   "execution_count": 74,
   "metadata": {},
   "outputs": [
    {
     "data": {
      "text/plain": [
       "array(['book', nan, 'periodical', 'not a book', 'article'], dtype=object)"
      ]
     },
     "execution_count": 74,
     "metadata": {},
     "output_type": "execute_result"
    }
   ],
   "source": [
    "books_df.media_type.unique()"
   ]
  },
  {
   "cell_type": "code",
   "execution_count": 75,
   "metadata": {},
   "outputs": [
    {
     "data": {
      "text/plain": [
       "array(['Paperback', 'Hardcover', nan, 'Kindle Edition', 'ebook',\n",
       "       'Mass Market Paperback', 'Audio CD', 'Slipcased Hardcover',\n",
       "       'Audio Cassette', 'Comics', 'Board Book', 'paperback',\n",
       "       'Trade Paperback', 'Box Set', 'Paper back', 'Leather Bound',\n",
       "       'Library Binding', 'Audible Audio', 'Nook', 'MP3 CD', 'Audiobook',\n",
       "       'Comic Book', 'Broschiert', 'Science Fiction Book Club Omnibus',\n",
       "       'Audio', 'Unknown Binding', 'رقعی', 'Paperback ', 'paper',\n",
       "       'Slipcase Hardcover', 'Novelty Book', 'Softcover',\n",
       "       'Paperback and online', 'Board book', 'Mass Market Paperback ',\n",
       "       'Spiral-bound', 'Boxed Set', 'Loose-Leaf', 'コミック', 'Trade Paper',\n",
       "       'pocket', 'Graphic Novel', 'Hardcover / گالینگور - وزیری'],\n",
       "      dtype=object)"
      ]
     },
     "execution_count": 75,
     "metadata": {},
     "output_type": "execute_result"
    }
   ],
   "source": [
    "books_df.format.unique()"
   ]
  },
  {
   "cell_type": "code",
   "execution_count": 88,
   "metadata": {},
   "outputs": [
    {
     "data": {
      "text/plain": [
       "<matplotlib.axes._subplots.AxesSubplot at 0x2110d6de608>"
      ]
     },
     "execution_count": 88,
     "metadata": {},
     "output_type": "execute_result"
    },
    {
     "data": {
      "image/png": "[encoded data removed]",
      "text/plain": [
       "<Figure size 432x288 with 1 Axes>"
      ]
     },
     "metadata": {
      "image/png": {
       "height": 248,
       "width": 388
      },
      "needs_background": "light"
     },
     "output_type": "display_data"
    }
   ],
   "source": [
    "books_years = books_df.year\n",
    "sns.distplot(books_years.values, kde=False)\n"
   ]
  },
  {
   "cell_type": "code",
   "execution_count": 91,
   "metadata": {},
   "outputs": [
    {
     "data": {
      "text/html": [
       "<div>\n",
       "<style scoped>\n",
       "    .dataframe tbody tr th:only-of-type {\n",
       "        vertical-align: middle;\n",
       "    }\n",
       "\n",
       "    .dataframe tbody tr th {\n",
       "        vertical-align: top;\n",
       "    }\n",
       "\n",
       "    .dataframe thead th {\n",
       "        text-align: right;\n",
       "    }\n",
       "</style>\n",
       "<table border=\"1\" class=\"dataframe\">\n",
       "  <thead>\n",
       "    <tr style=\"text-align: right;\">\n",
       "      <th></th>\n",
       "      <th>id</th>\n",
       "      <th>best_id</th>\n",
       "      <th>title</th>\n",
       "      <th>author</th>\n",
       "      <th>description</th>\n",
       "      <th>year</th>\n",
       "      <th>num_pages</th>\n",
       "      <th>format</th>\n",
       "      <th>media_type</th>\n",
       "      <th>language</th>\n",
       "      <th>image_url</th>\n",
       "      <th>average_rating</th>\n",
       "      <th>rating_dist</th>\n",
       "      <th>ratings_count</th>\n",
       "      <th>text_reviews_count</th>\n",
       "      <th>shelves</th>\n",
       "    </tr>\n",
       "  </thead>\n",
       "  <tbody>\n",
       "    <tr>\n",
       "      <th>0</th>\n",
       "      <td>1</td>\n",
       "      <td>1</td>\n",
       "      <td>Harry Potter and the Half-Blood Prince (Harry ...</td>\n",
       "      <td>J.K. Rowling</td>\n",
       "      <td>The war against Voldemort is not going well; e...</td>\n",
       "      <td>2005.0</td>\n",
       "      <td>652.0</td>\n",
       "      <td>Paperback</td>\n",
       "      <td>book</td>\n",
       "      <td>eng</td>\n",
       "      <td>https://i.gr-assets.com/images/S/compressed.ph...</td>\n",
       "      <td>4.57</td>\n",
       "      <td>5:1598220|4:570051|3:163397|2:25942|1:10453|to...</td>\n",
       "      <td>2368063</td>\n",
       "      <td>38135</td>\n",
       "      <td>{\"fantasy\": 46663, \"favorites\": 39215, \"young-...</td>\n",
       "    </tr>\n",
       "    <tr>\n",
       "      <th>1</th>\n",
       "      <td>10</td>\n",
       "      <td>10</td>\n",
       "      <td>Harry Potter Collection (Harry Potter, #1-6)</td>\n",
       "      <td>J.K. Rowling</td>\n",
       "      <td>Six years of magic, adventure, and mystery mak...</td>\n",
       "      <td>2005.0</td>\n",
       "      <td>3342.0</td>\n",
       "      <td>Hardcover</td>\n",
       "      <td>book</td>\n",
       "      <td>eng</td>\n",
       "      <td>https://i.gr-assets.com/images/S/compressed.ph...</td>\n",
       "      <td>4.73</td>\n",
       "      <td>5:24710|4:4399|3:1086|2:217|1:267|total:30679</td>\n",
       "      <td>30679</td>\n",
       "      <td>939</td>\n",
       "      <td>{\"favorites\": 373, \"fantasy\": 283, \"fiction\": ...</td>\n",
       "    </tr>\n",
       "    <tr>\n",
       "      <th>2</th>\n",
       "      <td>10000191</td>\n",
       "      <td>22319275</td>\n",
       "      <td>Yellow Crocus</td>\n",
       "      <td>Laila Ibrahim</td>\n",
       "      <td>Mattie was never truly mine. That knowledge mu...</td>\n",
       "      <td>2010.0</td>\n",
       "      <td>229.0</td>\n",
       "      <td>Paperback</td>\n",
       "      <td>book</td>\n",
       "      <td>eng</td>\n",
       "      <td>https://s.gr-assets.com/assets/nophoto/book/11...</td>\n",
       "      <td>4.30</td>\n",
       "      <td>5:29248|4:21779|3:7066|2:1349|1:530|total:59972</td>\n",
       "      <td>59972</td>\n",
       "      <td>5434</td>\n",
       "      <td>{\"historical-fiction\": 894, \"fiction\": 377, \"k...</td>\n",
       "    </tr>\n",
       "    <tr>\n",
       "      <th>3</th>\n",
       "      <td>10002296</td>\n",
       "      <td>10002296</td>\n",
       "      <td>Wildflower Hill</td>\n",
       "      <td>Kimberley Freeman</td>\n",
       "      <td>Forced to take her life in a new direction whe...</td>\n",
       "      <td>2010.0</td>\n",
       "      <td>524.0</td>\n",
       "      <td>Paperback</td>\n",
       "      <td>book</td>\n",
       "      <td>en-US</td>\n",
       "      <td>https://i.gr-assets.com/images/S/compressed.ph...</td>\n",
       "      <td>4.08</td>\n",
       "      <td>5:4206|4:5222|3:2138|2:361|1:113|total:12040</td>\n",
       "      <td>12040</td>\n",
       "      <td>1402</td>\n",
       "      <td>{\"historical-fiction\": 211, \"fiction\": 158, \"f...</td>\n",
       "    </tr>\n",
       "    <tr>\n",
       "      <th>4</th>\n",
       "      <td>10006</td>\n",
       "      <td>10006</td>\n",
       "      <td>Oracle Night</td>\n",
       "      <td>Paul Auster</td>\n",
       "      <td>The discovery of a mysterious notebook turns a...</td>\n",
       "      <td>2004.0</td>\n",
       "      <td>245.0</td>\n",
       "      <td>NaN</td>\n",
       "      <td>book</td>\n",
       "      <td>eng</td>\n",
       "      <td>https://i.gr-assets.com/images/S/compressed.ph...</td>\n",
       "      <td>3.79</td>\n",
       "      <td>5:3023|4:5611|3:3745|2:821|1:164|total:13364</td>\n",
       "      <td>13364</td>\n",
       "      <td>810</td>\n",
       "      <td>{\"fiction\": 346, \"favorites\": 91, \"rory-gilmor...</td>\n",
       "    </tr>\n",
       "    <tr>\n",
       "      <th>...</th>\n",
       "      <td>...</td>\n",
       "      <td>...</td>\n",
       "      <td>...</td>\n",
       "      <td>...</td>\n",
       "      <td>...</td>\n",
       "      <td>...</td>\n",
       "      <td>...</td>\n",
       "      <td>...</td>\n",
       "      <td>...</td>\n",
       "      <td>...</td>\n",
       "      <td>...</td>\n",
       "      <td>...</td>\n",
       "      <td>...</td>\n",
       "      <td>...</td>\n",
       "      <td>...</td>\n",
       "      <td>...</td>\n",
       "    </tr>\n",
       "    <tr>\n",
       "      <th>22493</th>\n",
       "      <td>9995135</td>\n",
       "      <td>9995135</td>\n",
       "      <td>The Darkest Seduction (Lords of the Underworld...</td>\n",
       "      <td>Gena Showalter</td>\n",
       "      <td>At long last, New York Times bestselling autho...</td>\n",
       "      <td>2012.0</td>\n",
       "      <td>504.0</td>\n",
       "      <td>Mass Market Paperback</td>\n",
       "      <td>book</td>\n",
       "      <td>eng</td>\n",
       "      <td>https://i.gr-assets.com/images/S/compressed.ph...</td>\n",
       "      <td>4.35</td>\n",
       "      <td>5:13130|4:7262|3:3048|2:597|1:170|total:24207</td>\n",
       "      <td>24207</td>\n",
       "      <td>1253</td>\n",
       "      <td>{\"paranormal-romance\": 632, \"paranormal\": 513,...</td>\n",
       "    </tr>\n",
       "    <tr>\n",
       "      <th>22494</th>\n",
       "      <td>99955</td>\n",
       "      <td>99955</td>\n",
       "      <td>Common Sense, The Rights of Man and Other Esse...</td>\n",
       "      <td>Thomas Paine</td>\n",
       "      <td>Paine's daring prose paved the way for the Dec...</td>\n",
       "      <td>1776.0</td>\n",
       "      <td>416.0</td>\n",
       "      <td>Paperback</td>\n",
       "      <td>book</td>\n",
       "      <td>eng</td>\n",
       "      <td>https://i.gr-assets.com/images/S/compressed.ph...</td>\n",
       "      <td>4.14</td>\n",
       "      <td>5:6111|4:4950|3:2778|2:486|1:117|total:14442</td>\n",
       "      <td>14442</td>\n",
       "      <td>143</td>\n",
       "      <td>{\"philosophy\": 356, \"history\": 261, \"non-ficti...</td>\n",
       "    </tr>\n",
       "    <tr>\n",
       "      <th>22495</th>\n",
       "      <td>9998</td>\n",
       "      <td>9998</td>\n",
       "      <td>The Woman in the Dunes</td>\n",
       "      <td>Kōbō Abe</td>\n",
       "      <td>The Woman in the Dunes, by celebrated writer a...</td>\n",
       "      <td>1962.0</td>\n",
       "      <td>241.0</td>\n",
       "      <td>Paperback</td>\n",
       "      <td>book</td>\n",
       "      <td>eng</td>\n",
       "      <td>https://i.gr-assets.com/images/S/compressed.ph...</td>\n",
       "      <td>3.91</td>\n",
       "      <td>5:6365|4:8696|3:4616|2:1266|1:358|total:21301</td>\n",
       "      <td>21301</td>\n",
       "      <td>1701</td>\n",
       "      <td>{\"fiction\": 825, \"japan\": 533, \"japanese\": 421...</td>\n",
       "    </tr>\n",
       "    <tr>\n",
       "      <th>22496</th>\n",
       "      <td>9998705</td>\n",
       "      <td>9998705</td>\n",
       "      <td>Flash and Bones (Temperance Brennan, #14)</td>\n",
       "      <td>Kathy Reichs</td>\n",
       "      <td>FLASH! Illuminated by lightning, a lifeless hu...</td>\n",
       "      <td>2011.0</td>\n",
       "      <td>278.0</td>\n",
       "      <td>Hardcover</td>\n",
       "      <td>book</td>\n",
       "      <td>eng</td>\n",
       "      <td>https://i.gr-assets.com/images/S/compressed.ph...</td>\n",
       "      <td>3.87</td>\n",
       "      <td>5:5292|4:7580|3:5347|2:964|1:146|total:19329</td>\n",
       "      <td>19329</td>\n",
       "      <td>1297</td>\n",
       "      <td>{\"mystery\": 572, \"kathy-reichs\": 313, \"crime\":...</td>\n",
       "    </tr>\n",
       "    <tr>\n",
       "      <th>22497</th>\n",
       "      <td>9999107</td>\n",
       "      <td>9999107</td>\n",
       "      <td>The American Heiress</td>\n",
       "      <td>Daisy Goodwin</td>\n",
       "      <td>Witty, moving, and brilliantly entertaining, T...</td>\n",
       "      <td>2010.0</td>\n",
       "      <td>468.0</td>\n",
       "      <td>Hardcover</td>\n",
       "      <td>book</td>\n",
       "      <td>eng</td>\n",
       "      <td>https://i.gr-assets.com/images/S/compressed.ph...</td>\n",
       "      <td>3.44</td>\n",
       "      <td>5:4964|4:11993|3:13738|2:4209|1:981|total:35885</td>\n",
       "      <td>35885</td>\n",
       "      <td>4529</td>\n",
       "      <td>{\"historical-fiction\": 1254, \"fiction\": 527, \"...</td>\n",
       "    </tr>\n",
       "  </tbody>\n",
       "</table>\n",
       "<p>22368 rows × 16 columns</p>\n",
       "</div>"
      ],
      "text/plain": [
       "             id   best_id                                              title  \\\n",
       "0             1         1  Harry Potter and the Half-Blood Prince (Harry ...   \n",
       "1            10        10       Harry Potter Collection (Harry Potter, #1-6)   \n",
       "2      10000191  22319275                                      Yellow Crocus   \n",
       "3      10002296  10002296                                    Wildflower Hill   \n",
       "4         10006     10006                                       Oracle Night   \n",
       "...         ...       ...                                                ...   \n",
       "22493   9995135   9995135  The Darkest Seduction (Lords of the Underworld...   \n",
       "22494     99955     99955  Common Sense, The Rights of Man and Other Esse...   \n",
       "22495      9998      9998                             The Woman in the Dunes   \n",
       "22496   9998705   9998705          Flash and Bones (Temperance Brennan, #14)   \n",
       "22497   9999107   9999107                               The American Heiress   \n",
       "\n",
       "                  author                                        description  \\\n",
       "0           J.K. Rowling  The war against Voldemort is not going well; e...   \n",
       "1           J.K. Rowling  Six years of magic, adventure, and mystery mak...   \n",
       "2          Laila Ibrahim  Mattie was never truly mine. That knowledge mu...   \n",
       "3      Kimberley Freeman  Forced to take her life in a new direction whe...   \n",
       "4            Paul Auster  The discovery of a mysterious notebook turns a...   \n",
       "...                  ...                                                ...   \n",
       "22493     Gena Showalter  At long last, New York Times bestselling autho...   \n",
       "22494       Thomas Paine  Paine's daring prose paved the way for the Dec...   \n",
       "22495           Kōbō Abe  The Woman in the Dunes, by celebrated writer a...   \n",
       "22496       Kathy Reichs  FLASH! Illuminated by lightning, a lifeless hu...   \n",
       "22497      Daisy Goodwin  Witty, moving, and brilliantly entertaining, T...   \n",
       "\n",
       "         year  num_pages                 format media_type language  \\\n",
       "0      2005.0      652.0              Paperback       book      eng   \n",
       "1      2005.0     3342.0              Hardcover       book      eng   \n",
       "2      2010.0      229.0              Paperback       book      eng   \n",
       "3      2010.0      524.0              Paperback       book    en-US   \n",
       "4      2004.0      245.0                    NaN       book      eng   \n",
       "...       ...        ...                    ...        ...      ...   \n",
       "22493  2012.0      504.0  Mass Market Paperback       book      eng   \n",
       "22494  1776.0      416.0              Paperback       book      eng   \n",
       "22495  1962.0      241.0              Paperback       book      eng   \n",
       "22496  2011.0      278.0              Hardcover       book      eng   \n",
       "22497  2010.0      468.0              Hardcover       book      eng   \n",
       "\n",
       "                                               image_url  average_rating  \\\n",
       "0      https://i.gr-assets.com/images/S/compressed.ph...            4.57   \n",
       "1      https://i.gr-assets.com/images/S/compressed.ph...            4.73   \n",
       "2      https://s.gr-assets.com/assets/nophoto/book/11...            4.30   \n",
       "3      https://i.gr-assets.com/images/S/compressed.ph...            4.08   \n",
       "4      https://i.gr-assets.com/images/S/compressed.ph...            3.79   \n",
       "...                                                  ...             ...   \n",
       "22493  https://i.gr-assets.com/images/S/compressed.ph...            4.35   \n",
       "22494  https://i.gr-assets.com/images/S/compressed.ph...            4.14   \n",
       "22495  https://i.gr-assets.com/images/S/compressed.ph...            3.91   \n",
       "22496  https://i.gr-assets.com/images/S/compressed.ph...            3.87   \n",
       "22497  https://i.gr-assets.com/images/S/compressed.ph...            3.44   \n",
       "\n",
       "                                             rating_dist  ratings_count  \\\n",
       "0      5:1598220|4:570051|3:163397|2:25942|1:10453|to...        2368063   \n",
       "1          5:24710|4:4399|3:1086|2:217|1:267|total:30679          30679   \n",
       "2        5:29248|4:21779|3:7066|2:1349|1:530|total:59972          59972   \n",
       "3           5:4206|4:5222|3:2138|2:361|1:113|total:12040          12040   \n",
       "4           5:3023|4:5611|3:3745|2:821|1:164|total:13364          13364   \n",
       "...                                                  ...            ...   \n",
       "22493      5:13130|4:7262|3:3048|2:597|1:170|total:24207          24207   \n",
       "22494       5:6111|4:4950|3:2778|2:486|1:117|total:14442          14442   \n",
       "22495      5:6365|4:8696|3:4616|2:1266|1:358|total:21301          21301   \n",
       "22496       5:5292|4:7580|3:5347|2:964|1:146|total:19329          19329   \n",
       "22497    5:4964|4:11993|3:13738|2:4209|1:981|total:35885          35885   \n",
       "\n",
       "       text_reviews_count                                            shelves  \n",
       "0                   38135  {\"fantasy\": 46663, \"favorites\": 39215, \"young-...  \n",
       "1                     939  {\"favorites\": 373, \"fantasy\": 283, \"fiction\": ...  \n",
       "2                    5434  {\"historical-fiction\": 894, \"fiction\": 377, \"k...  \n",
       "3                    1402  {\"historical-fiction\": 211, \"fiction\": 158, \"f...  \n",
       "4                     810  {\"fiction\": 346, \"favorites\": 91, \"rory-gilmor...  \n",
       "...                   ...                                                ...  \n",
       "22493                1253  {\"paranormal-romance\": 632, \"paranormal\": 513,...  \n",
       "22494                 143  {\"philosophy\": 356, \"history\": 261, \"non-ficti...  \n",
       "22495                1701  {\"fiction\": 825, \"japan\": 533, \"japanese\": 421...  \n",
       "22496                1297  {\"mystery\": 572, \"kathy-reichs\": 313, \"crime\":...  \n",
       "22497                4529  {\"historical-fiction\": 1254, \"fiction\": 527, \"...  \n",
       "\n",
       "[22368 rows x 16 columns]"
      ]
     },
     "execution_count": 91,
     "metadata": {},
     "output_type": "execute_result"
    }
   ],
   "source": [
    "books_df[ books_df.media_type == 'book']"
   ]
  },
  {
   "cell_type": "code",
   "execution_count": 95,
   "metadata": {},
   "outputs": [
    {
     "data": {
      "text/plain": [
       "<matplotlib.axes._subplots.AxesSubplot at 0x2110eedc288>"
      ]
     },
     "execution_count": 95,
     "metadata": {},
     "output_type": "execute_result"
    },
    {
     "data": {
      "image/png": "[encoded data removed]",
      "text/plain": [
       "<Figure size 432x288 with 1 Axes>"
      ]
     },
     "metadata": {
      "image/png": {
       "height": 248,
       "width": 403
      },
      "needs_background": "light"
     },
     "output_type": "display_data"
    }
   ],
   "source": [
    "sns.distplot(books_df.ratings_count.values, kde=False)"
   ]
  },
  {
   "cell_type": "code",
   "execution_count": 96,
   "metadata": {},
   "outputs": [
    {
     "data": {
      "text/plain": [
       "<matplotlib.axes._subplots.AxesSubplot at 0x21110910848>"
      ]
     },
     "execution_count": 96,
     "metadata": {},
     "output_type": "execute_result"
    },
    {
     "data": {
      "image/png": "[encoded data removed]",
      "text/plain": [
       "<Figure size 432x288 with 1 Axes>"
      ]
     },
     "metadata": {
      "image/png": {
       "height": 248,
       "width": 372
      },
      "needs_background": "light"
     },
     "output_type": "display_data"
    }
   ],
   "source": [
    "sns.distplot(books_df.average_rating.values, kde=True)"
   ]
  },
  {
   "cell_type": "code",
   "execution_count": 97,
   "metadata": {},
   "outputs": [
    {
     "data": {
      "text/plain": [
       "<matplotlib.axes._subplots.AxesSubplot at 0x21110d99a48>"
      ]
     },
     "execution_count": 97,
     "metadata": {},
     "output_type": "execute_result"
    },
    {
     "data": {
      "image/png": "[encoded data removed]",
      "text/plain": [
       "<Figure size 432x288 with 1 Axes>"
      ]
     },
     "metadata": {
      "image/png": {
       "height": 248,
       "width": 401
      },
      "needs_background": "light"
     },
     "output_type": "display_data"
    }
   ],
   "source": [
    "sns.distplot(books_df.text_reviews_count.values, kde=False)"
   ]
  },
  {
   "cell_type": "code",
   "execution_count": 102,
   "metadata": {},
   "outputs": [
    {
     "data": {
      "text/plain": [
       "<matplotlib.axes._subplots.AxesSubplot at 0x21112aa4d08>"
      ]
     },
     "execution_count": 102,
     "metadata": {},
     "output_type": "execute_result"
    },
    {
     "data": {
      "image/png": "[encoded data removed]",
      "text/plain": [
       "<Figure size 432x288 with 1 Axes>"
      ]
     },
     "metadata": {
      "image/png": {
       "height": 248,
       "width": 381
      },
      "needs_background": "light"
     },
     "output_type": "display_data"
    }
   ],
   "source": [
    "sns.distplot(books_df.num_pages[books_df.num_pages <1500].values, kde=False)"
   ]
  },
  {
   "cell_type": "code",
   "execution_count": 104,
   "metadata": {},
   "outputs": [
    {
     "data": {
      "text/html": [
       "<div>\n",
       "<style scoped>\n",
       "    .dataframe tbody tr th:only-of-type {\n",
       "        vertical-align: middle;\n",
       "    }\n",
       "\n",
       "    .dataframe tbody tr th {\n",
       "        vertical-align: top;\n",
       "    }\n",
       "\n",
       "    .dataframe thead th {\n",
       "        text-align: right;\n",
       "    }\n",
       "</style>\n",
       "<table border=\"1\" class=\"dataframe\">\n",
       "  <thead>\n",
       "    <tr style=\"text-align: right;\">\n",
       "      <th></th>\n",
       "      <th>id</th>\n",
       "      <th>best_id</th>\n",
       "      <th>year</th>\n",
       "      <th>num_pages</th>\n",
       "      <th>average_rating</th>\n",
       "      <th>ratings_count</th>\n",
       "      <th>text_reviews_count</th>\n",
       "    </tr>\n",
       "  </thead>\n",
       "  <tbody>\n",
       "    <tr>\n",
       "      <th>count</th>\n",
       "      <td>2.249800e+04</td>\n",
       "      <td>2.249800e+04</td>\n",
       "      <td>22442.000000</td>\n",
       "      <td>21416.000000</td>\n",
       "      <td>22498.000000</td>\n",
       "      <td>2.249800e+04</td>\n",
       "      <td>22498.000000</td>\n",
       "    </tr>\n",
       "    <tr>\n",
       "      <th>mean</th>\n",
       "      <td>7.099017e+06</td>\n",
       "      <td>7.701537e+06</td>\n",
       "      <td>1985.832279</td>\n",
       "      <td>351.738233</td>\n",
       "      <td>3.967309</td>\n",
       "      <td>9.139864e+04</td>\n",
       "      <td>4116.356654</td>\n",
       "    </tr>\n",
       "    <tr>\n",
       "      <th>std</th>\n",
       "      <td>1.094606e+07</td>\n",
       "      <td>1.171561e+07</td>\n",
       "      <td>135.605312</td>\n",
       "      <td>195.268691</td>\n",
       "      <td>0.271685</td>\n",
       "      <td>3.315884e+05</td>\n",
       "      <td>10206.231025</td>\n",
       "    </tr>\n",
       "    <tr>\n",
       "      <th>min</th>\n",
       "      <td>1.000000e+00</td>\n",
       "      <td>1.000000e+00</td>\n",
       "      <td>-1800.000000</td>\n",
       "      <td>0.000000</td>\n",
       "      <td>2.400000</td>\n",
       "      <td>4.600000e+01</td>\n",
       "      <td>1.000000</td>\n",
       "    </tr>\n",
       "    <tr>\n",
       "      <th>25%</th>\n",
       "      <td>7.521425e+04</td>\n",
       "      <td>6.595075e+04</td>\n",
       "      <td>1991.000000</td>\n",
       "      <td>253.000000</td>\n",
       "      <td>3.810000</td>\n",
       "      <td>8.221000e+03</td>\n",
       "      <td>465.000000</td>\n",
       "    </tr>\n",
       "    <tr>\n",
       "      <th>50%</th>\n",
       "      <td>5.267660e+05</td>\n",
       "      <td>5.184485e+05</td>\n",
       "      <td>2005.000000</td>\n",
       "      <td>334.000000</td>\n",
       "      <td>3.980000</td>\n",
       "      <td>1.736200e+04</td>\n",
       "      <td>1127.000000</td>\n",
       "    </tr>\n",
       "    <tr>\n",
       "      <th>75%</th>\n",
       "      <td>1.087171e+07</td>\n",
       "      <td>1.257770e+07</td>\n",
       "      <td>2011.000000</td>\n",
       "      <td>416.000000</td>\n",
       "      <td>4.160000</td>\n",
       "      <td>4.546075e+04</td>\n",
       "      <td>3005.000000</td>\n",
       "    </tr>\n",
       "    <tr>\n",
       "      <th>max</th>\n",
       "      <td>5.301191e+07</td>\n",
       "      <td>5.435202e+07</td>\n",
       "      <td>2020.000000</td>\n",
       "      <td>5216.000000</td>\n",
       "      <td>4.820000</td>\n",
       "      <td>6.824771e+06</td>\n",
       "      <td>170130.000000</td>\n",
       "    </tr>\n",
       "  </tbody>\n",
       "</table>\n",
       "</div>"
      ],
      "text/plain": [
       "                 id       best_id          year     num_pages  average_rating  \\\n",
       "count  2.249800e+04  2.249800e+04  22442.000000  21416.000000    22498.000000   \n",
       "mean   7.099017e+06  7.701537e+06   1985.832279    351.738233        3.967309   \n",
       "std    1.094606e+07  1.171561e+07    135.605312    195.268691        0.271685   \n",
       "min    1.000000e+00  1.000000e+00  -1800.000000      0.000000        2.400000   \n",
       "25%    7.521425e+04  6.595075e+04   1991.000000    253.000000        3.810000   \n",
       "50%    5.267660e+05  5.184485e+05   2005.000000    334.000000        3.980000   \n",
       "75%    1.087171e+07  1.257770e+07   2011.000000    416.000000        4.160000   \n",
       "max    5.301191e+07  5.435202e+07   2020.000000   5216.000000        4.820000   \n",
       "\n",
       "       ratings_count  text_reviews_count  \n",
       "count   2.249800e+04        22498.000000  \n",
       "mean    9.139864e+04         4116.356654  \n",
       "std     3.315884e+05        10206.231025  \n",
       "min     4.600000e+01            1.000000  \n",
       "25%     8.221000e+03          465.000000  \n",
       "50%     1.736200e+04         1127.000000  \n",
       "75%     4.546075e+04         3005.000000  \n",
       "max     6.824771e+06       170130.000000  "
      ]
     },
     "execution_count": 104,
     "metadata": {},
     "output_type": "execute_result"
    }
   ],
   "source": [
    "books_df.describe()"
   ]
  },
  {
   "cell_type": "code",
   "execution_count": null,
   "metadata": {},
   "outputs": [],
   "source": []
  }
 ],
 "metadata": {
  "kernelspec": {
   "display_name": "Python 3",
   "language": "python",
   "name": "python3"
  },
  "language_info": {
   "codemirror_mode": {
    "name": "ipython",
    "version": 3
   },
   "file_extension": ".py",
   "mimetype": "text/x-python",
   "name": "python",
   "nbconvert_exporter": "python",
   "pygments_lexer": "ipython3",
   "version": "3.7.6"
  }
 },
 "nbformat": 4,
 "nbformat_minor": 4
}
