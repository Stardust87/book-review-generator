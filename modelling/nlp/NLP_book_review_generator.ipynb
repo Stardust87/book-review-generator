{
  "nbformat": 4,
  "nbformat_minor": 0,
  "metadata": {
    "colab": {
      "name": "NLP book review generator",
      "provenance": [],
      "collapsed_sections": [],
      "toc_visible": true
    },
    "kernelspec": {
      "name": "python3",
      "display_name": "Python 3"
    },
    "accelerator": "GPU",
    "widgets": {
      "application/vnd.jupyter.widget-state+json": {
        "997667c44ee3463cb0e546415aca2c22": {
          "model_module": "@jupyter-widgets/controls",
          "model_name": "HBoxModel",
          "state": {
            "_view_name": "HBoxView",
            "_dom_classes": [],
            "_model_name": "HBoxModel",
            "_view_module": "@jupyter-widgets/controls",
            "_model_module_version": "1.5.0",
            "_view_count": null,
            "_view_module_version": "1.5.0",
            "box_style": "",
            "layout": "IPY_MODEL_9a5c4df9eeda46a4bb656e3722a006d2",
            "_model_module": "@jupyter-widgets/controls",
            "children": [
              "IPY_MODEL_9d044a3cfa3f431b8f96ad4ea2ee7aa1",
              "IPY_MODEL_e87a1bde58a0490f9e93657456cafc9f"
            ]
          }
        },
        "9a5c4df9eeda46a4bb656e3722a006d2": {
          "model_module": "@jupyter-widgets/base",
          "model_name": "LayoutModel",
          "state": {
            "_view_name": "LayoutView",
            "grid_template_rows": null,
            "right": null,
            "justify_content": null,
            "_view_module": "@jupyter-widgets/base",
            "overflow": null,
            "_model_module_version": "1.2.0",
            "_view_count": null,
            "flex_flow": null,
            "width": null,
            "min_width": null,
            "border": null,
            "align_items": null,
            "bottom": null,
            "_model_module": "@jupyter-widgets/base",
            "top": null,
            "grid_column": null,
            "overflow_y": null,
            "overflow_x": null,
            "grid_auto_flow": null,
            "grid_area": null,
            "grid_template_columns": null,
            "flex": null,
            "_model_name": "LayoutModel",
            "justify_items": null,
            "grid_row": null,
            "max_height": null,
            "align_content": null,
            "visibility": null,
            "align_self": null,
            "height": null,
            "min_height": null,
            "padding": null,
            "grid_auto_rows": null,
            "grid_gap": null,
            "max_width": null,
            "order": null,
            "_view_module_version": "1.2.0",
            "grid_template_areas": null,
            "object_position": null,
            "object_fit": null,
            "grid_auto_columns": null,
            "margin": null,
            "display": null,
            "left": null
          }
        },
        "9d044a3cfa3f431b8f96ad4ea2ee7aa1": {
          "model_module": "@jupyter-widgets/controls",
          "model_name": "FloatProgressModel",
          "state": {
            "_view_name": "ProgressView",
            "style": "IPY_MODEL_c7fe4c3191234e1699136ea0af8f9234",
            "_dom_classes": [],
            "description": "Downloading: 100%",
            "_model_name": "FloatProgressModel",
            "bar_style": "success",
            "max": 1042301,
            "_view_module": "@jupyter-widgets/controls",
            "_model_module_version": "1.5.0",
            "value": 1042301,
            "_view_count": null,
            "_view_module_version": "1.5.0",
            "orientation": "horizontal",
            "min": 0,
            "description_tooltip": null,
            "_model_module": "@jupyter-widgets/controls",
            "layout": "IPY_MODEL_b451b3cb3a22423898a407b97ebb94c1"
          }
        },
        "e87a1bde58a0490f9e93657456cafc9f": {
          "model_module": "@jupyter-widgets/controls",
          "model_name": "HTMLModel",
          "state": {
            "_view_name": "HTMLView",
            "style": "IPY_MODEL_3d858a2cfd0d4e3992c2e5fb48238827",
            "_dom_classes": [],
            "description": "",
            "_model_name": "HTMLModel",
            "placeholder": "​",
            "_view_module": "@jupyter-widgets/controls",
            "_model_module_version": "1.5.0",
            "value": " 1.04M/1.04M [00:00&lt;00:00, 1.06MB/s]",
            "_view_count": null,
            "_view_module_version": "1.5.0",
            "description_tooltip": null,
            "_model_module": "@jupyter-widgets/controls",
            "layout": "IPY_MODEL_3cf029f60453442eb0dbd55b8b9b155c"
          }
        },
        "c7fe4c3191234e1699136ea0af8f9234": {
          "model_module": "@jupyter-widgets/controls",
          "model_name": "ProgressStyleModel",
          "state": {
            "_view_name": "StyleView",
            "_model_name": "ProgressStyleModel",
            "description_width": "initial",
            "_view_module": "@jupyter-widgets/base",
            "_model_module_version": "1.5.0",
            "_view_count": null,
            "_view_module_version": "1.2.0",
            "bar_color": null,
            "_model_module": "@jupyter-widgets/controls"
          }
        },
        "b451b3cb3a22423898a407b97ebb94c1": {
          "model_module": "@jupyter-widgets/base",
          "model_name": "LayoutModel",
          "state": {
            "_view_name": "LayoutView",
            "grid_template_rows": null,
            "right": null,
            "justify_content": null,
            "_view_module": "@jupyter-widgets/base",
            "overflow": null,
            "_model_module_version": "1.2.0",
            "_view_count": null,
            "flex_flow": null,
            "width": null,
            "min_width": null,
            "border": null,
            "align_items": null,
            "bottom": null,
            "_model_module": "@jupyter-widgets/base",
            "top": null,
            "grid_column": null,
            "overflow_y": null,
            "overflow_x": null,
            "grid_auto_flow": null,
            "grid_area": null,
            "grid_template_columns": null,
            "flex": null,
            "_model_name": "LayoutModel",
            "justify_items": null,
            "grid_row": null,
            "max_height": null,
            "align_content": null,
            "visibility": null,
            "align_self": null,
            "height": null,
            "min_height": null,
            "padding": null,
            "grid_auto_rows": null,
            "grid_gap": null,
            "max_width": null,
            "order": null,
            "_view_module_version": "1.2.0",
            "grid_template_areas": null,
            "object_position": null,
            "object_fit": null,
            "grid_auto_columns": null,
            "margin": null,
            "display": null,
            "left": null
          }
        },
        "3d858a2cfd0d4e3992c2e5fb48238827": {
          "model_module": "@jupyter-widgets/controls",
          "model_name": "DescriptionStyleModel",
          "state": {
            "_view_name": "StyleView",
            "_model_name": "DescriptionStyleModel",
            "description_width": "",
            "_view_module": "@jupyter-widgets/base",
            "_model_module_version": "1.5.0",
            "_view_count": null,
            "_view_module_version": "1.2.0",
            "_model_module": "@jupyter-widgets/controls"
          }
        },
        "3cf029f60453442eb0dbd55b8b9b155c": {
          "model_module": "@jupyter-widgets/base",
          "model_name": "LayoutModel",
          "state": {
            "_view_name": "LayoutView",
            "grid_template_rows": null,
            "right": null,
            "justify_content": null,
            "_view_module": "@jupyter-widgets/base",
            "overflow": null,
            "_model_module_version": "1.2.0",
            "_view_count": null,
            "flex_flow": null,
            "width": null,
            "min_width": null,
            "border": null,
            "align_items": null,
            "bottom": null,
            "_model_module": "@jupyter-widgets/base",
            "top": null,
            "grid_column": null,
            "overflow_y": null,
            "overflow_x": null,
            "grid_auto_flow": null,
            "grid_area": null,
            "grid_template_columns": null,
            "flex": null,
            "_model_name": "LayoutModel",
            "justify_items": null,
            "grid_row": null,
            "max_height": null,
            "align_content": null,
            "visibility": null,
            "align_self": null,
            "height": null,
            "min_height": null,
            "padding": null,
            "grid_auto_rows": null,
            "grid_gap": null,
            "max_width": null,
            "order": null,
            "_view_module_version": "1.2.0",
            "grid_template_areas": null,
            "object_position": null,
            "object_fit": null,
            "grid_auto_columns": null,
            "margin": null,
            "display": null,
            "left": null
          }
        },
        "8b99ae9799fd4239bfdfe5e85c71479f": {
          "model_module": "@jupyter-widgets/controls",
          "model_name": "HBoxModel",
          "state": {
            "_view_name": "HBoxView",
            "_dom_classes": [],
            "_model_name": "HBoxModel",
            "_view_module": "@jupyter-widgets/controls",
            "_model_module_version": "1.5.0",
            "_view_count": null,
            "_view_module_version": "1.5.0",
            "box_style": "",
            "layout": "IPY_MODEL_5ab16509f54e420c9387ee6d08101d67",
            "_model_module": "@jupyter-widgets/controls",
            "children": [
              "IPY_MODEL_918f440eb2cd4f8a95f1076b20b00318",
              "IPY_MODEL_0ae27442a26c4d55b10391a980147e70"
            ]
          }
        },
        "5ab16509f54e420c9387ee6d08101d67": {
          "model_module": "@jupyter-widgets/base",
          "model_name": "LayoutModel",
          "state": {
            "_view_name": "LayoutView",
            "grid_template_rows": null,
            "right": null,
            "justify_content": null,
            "_view_module": "@jupyter-widgets/base",
            "overflow": null,
            "_model_module_version": "1.2.0",
            "_view_count": null,
            "flex_flow": null,
            "width": null,
            "min_width": null,
            "border": null,
            "align_items": null,
            "bottom": null,
            "_model_module": "@jupyter-widgets/base",
            "top": null,
            "grid_column": null,
            "overflow_y": null,
            "overflow_x": null,
            "grid_auto_flow": null,
            "grid_area": null,
            "grid_template_columns": null,
            "flex": null,
            "_model_name": "LayoutModel",
            "justify_items": null,
            "grid_row": null,
            "max_height": null,
            "align_content": null,
            "visibility": null,
            "align_self": null,
            "height": null,
            "min_height": null,
            "padding": null,
            "grid_auto_rows": null,
            "grid_gap": null,
            "max_width": null,
            "order": null,
            "_view_module_version": "1.2.0",
            "grid_template_areas": null,
            "object_position": null,
            "object_fit": null,
            "grid_auto_columns": null,
            "margin": null,
            "display": null,
            "left": null
          }
        },
        "918f440eb2cd4f8a95f1076b20b00318": {
          "model_module": "@jupyter-widgets/controls",
          "model_name": "FloatProgressModel",
          "state": {
            "_view_name": "ProgressView",
            "style": "IPY_MODEL_bc910b206b6e4fee9a5ea6712144d61e",
            "_dom_classes": [],
            "description": "Downloading: 100%",
            "_model_name": "FloatProgressModel",
            "bar_style": "success",
            "max": 456318,
            "_view_module": "@jupyter-widgets/controls",
            "_model_module_version": "1.5.0",
            "value": 456318,
            "_view_count": null,
            "_view_module_version": "1.5.0",
            "orientation": "horizontal",
            "min": 0,
            "description_tooltip": null,
            "_model_module": "@jupyter-widgets/controls",
            "layout": "IPY_MODEL_c4e948d210f443f4b06090cc8e344349"
          }
        },
        "0ae27442a26c4d55b10391a980147e70": {
          "model_module": "@jupyter-widgets/controls",
          "model_name": "HTMLModel",
          "state": {
            "_view_name": "HTMLView",
            "style": "IPY_MODEL_93e624fb08f54084a34e594e4f0b93a7",
            "_dom_classes": [],
            "description": "",
            "_model_name": "HTMLModel",
            "placeholder": "​",
            "_view_module": "@jupyter-widgets/controls",
            "_model_module_version": "1.5.0",
            "value": " 456k/456k [00:00&lt;00:00, 1.35MB/s]",
            "_view_count": null,
            "_view_module_version": "1.5.0",
            "description_tooltip": null,
            "_model_module": "@jupyter-widgets/controls",
            "layout": "IPY_MODEL_006d6c19d2324f6db93fa4ee5c18038b"
          }
        },
        "bc910b206b6e4fee9a5ea6712144d61e": {
          "model_module": "@jupyter-widgets/controls",
          "model_name": "ProgressStyleModel",
          "state": {
            "_view_name": "StyleView",
            "_model_name": "ProgressStyleModel",
            "description_width": "initial",
            "_view_module": "@jupyter-widgets/base",
            "_model_module_version": "1.5.0",
            "_view_count": null,
            "_view_module_version": "1.2.0",
            "bar_color": null,
            "_model_module": "@jupyter-widgets/controls"
          }
        },
        "c4e948d210f443f4b06090cc8e344349": {
          "model_module": "@jupyter-widgets/base",
          "model_name": "LayoutModel",
          "state": {
            "_view_name": "LayoutView",
            "grid_template_rows": null,
            "right": null,
            "justify_content": null,
            "_view_module": "@jupyter-widgets/base",
            "overflow": null,
            "_model_module_version": "1.2.0",
            "_view_count": null,
            "flex_flow": null,
            "width": null,
            "min_width": null,
            "border": null,
            "align_items": null,
            "bottom": null,
            "_model_module": "@jupyter-widgets/base",
            "top": null,
            "grid_column": null,
            "overflow_y": null,
            "overflow_x": null,
            "grid_auto_flow": null,
            "grid_area": null,
            "grid_template_columns": null,
            "flex": null,
            "_model_name": "LayoutModel",
            "justify_items": null,
            "grid_row": null,
            "max_height": null,
            "align_content": null,
            "visibility": null,
            "align_self": null,
            "height": null,
            "min_height": null,
            "padding": null,
            "grid_auto_rows": null,
            "grid_gap": null,
            "max_width": null,
            "order": null,
            "_view_module_version": "1.2.0",
            "grid_template_areas": null,
            "object_position": null,
            "object_fit": null,
            "grid_auto_columns": null,
            "margin": null,
            "display": null,
            "left": null
          }
        },
        "93e624fb08f54084a34e594e4f0b93a7": {
          "model_module": "@jupyter-widgets/controls",
          "model_name": "DescriptionStyleModel",
          "state": {
            "_view_name": "StyleView",
            "_model_name": "DescriptionStyleModel",
            "description_width": "",
            "_view_module": "@jupyter-widgets/base",
            "_model_module_version": "1.5.0",
            "_view_count": null,
            "_view_module_version": "1.2.0",
            "_model_module": "@jupyter-widgets/controls"
          }
        },
        "006d6c19d2324f6db93fa4ee5c18038b": {
          "model_module": "@jupyter-widgets/base",
          "model_name": "LayoutModel",
          "state": {
            "_view_name": "LayoutView",
            "grid_template_rows": null,
            "right": null,
            "justify_content": null,
            "_view_module": "@jupyter-widgets/base",
            "overflow": null,
            "_model_module_version": "1.2.0",
            "_view_count": null,
            "flex_flow": null,
            "width": null,
            "min_width": null,
            "border": null,
            "align_items": null,
            "bottom": null,
            "_model_module": "@jupyter-widgets/base",
            "top": null,
            "grid_column": null,
            "overflow_y": null,
            "overflow_x": null,
            "grid_auto_flow": null,
            "grid_area": null,
            "grid_template_columns": null,
            "flex": null,
            "_model_name": "LayoutModel",
            "justify_items": null,
            "grid_row": null,
            "max_height": null,
            "align_content": null,
            "visibility": null,
            "align_self": null,
            "height": null,
            "min_height": null,
            "padding": null,
            "grid_auto_rows": null,
            "grid_gap": null,
            "max_width": null,
            "order": null,
            "_view_module_version": "1.2.0",
            "grid_template_areas": null,
            "object_position": null,
            "object_fit": null,
            "grid_auto_columns": null,
            "margin": null,
            "display": null,
            "left": null
          }
        },
        "f405461abd7e493fbb450fb1734cbd7f": {
          "model_module": "@jupyter-widgets/controls",
          "model_name": "HBoxModel",
          "state": {
            "_view_name": "HBoxView",
            "_dom_classes": [],
            "_model_name": "HBoxModel",
            "_view_module": "@jupyter-widgets/controls",
            "_model_module_version": "1.5.0",
            "_view_count": null,
            "_view_module_version": "1.5.0",
            "box_style": "",
            "layout": "IPY_MODEL_56d083d0db7a4827a1a96971b60a4bc4",
            "_model_module": "@jupyter-widgets/controls",
            "children": [
              "IPY_MODEL_17805609140c478cb1fb196447c53218",
              "IPY_MODEL_afad3a41a3fc4eb1ba76e26d75b5dd1c"
            ]
          }
        },
        "56d083d0db7a4827a1a96971b60a4bc4": {
          "model_module": "@jupyter-widgets/base",
          "model_name": "LayoutModel",
          "state": {
            "_view_name": "LayoutView",
            "grid_template_rows": null,
            "right": null,
            "justify_content": null,
            "_view_module": "@jupyter-widgets/base",
            "overflow": null,
            "_model_module_version": "1.2.0",
            "_view_count": null,
            "flex_flow": null,
            "width": null,
            "min_width": null,
            "border": null,
            "align_items": null,
            "bottom": null,
            "_model_module": "@jupyter-widgets/base",
            "top": null,
            "grid_column": null,
            "overflow_y": null,
            "overflow_x": null,
            "grid_auto_flow": null,
            "grid_area": null,
            "grid_template_columns": null,
            "flex": null,
            "_model_name": "LayoutModel",
            "justify_items": null,
            "grid_row": null,
            "max_height": null,
            "align_content": null,
            "visibility": null,
            "align_self": null,
            "height": null,
            "min_height": null,
            "padding": null,
            "grid_auto_rows": null,
            "grid_gap": null,
            "max_width": null,
            "order": null,
            "_view_module_version": "1.2.0",
            "grid_template_areas": null,
            "object_position": null,
            "object_fit": null,
            "grid_auto_columns": null,
            "margin": null,
            "display": null,
            "left": null
          }
        },
        "17805609140c478cb1fb196447c53218": {
          "model_module": "@jupyter-widgets/controls",
          "model_name": "FloatProgressModel",
          "state": {
            "_view_name": "ProgressView",
            "style": "IPY_MODEL_cc71985b8e454049a69c6a65778f03a9",
            "_dom_classes": [],
            "description": "Downloading: 100%",
            "_model_name": "FloatProgressModel",
            "bar_style": "success",
            "max": 665,
            "_view_module": "@jupyter-widgets/controls",
            "_model_module_version": "1.5.0",
            "value": 665,
            "_view_count": null,
            "_view_module_version": "1.5.0",
            "orientation": "horizontal",
            "min": 0,
            "description_tooltip": null,
            "_model_module": "@jupyter-widgets/controls",
            "layout": "IPY_MODEL_8fd8807519654be1a60e1bd950a49dba"
          }
        },
        "afad3a41a3fc4eb1ba76e26d75b5dd1c": {
          "model_module": "@jupyter-widgets/controls",
          "model_name": "HTMLModel",
          "state": {
            "_view_name": "HTMLView",
            "style": "IPY_MODEL_277e3995e4cc4577b1a7b58e14560d5b",
            "_dom_classes": [],
            "description": "",
            "_model_name": "HTMLModel",
            "placeholder": "​",
            "_view_module": "@jupyter-widgets/controls",
            "_model_module_version": "1.5.0",
            "value": " 665/665 [00:25&lt;00:00, 25.7B/s]",
            "_view_count": null,
            "_view_module_version": "1.5.0",
            "description_tooltip": null,
            "_model_module": "@jupyter-widgets/controls",
            "layout": "IPY_MODEL_7380edb75e804c0f8923537cfc6cedf9"
          }
        },
        "cc71985b8e454049a69c6a65778f03a9": {
          "model_module": "@jupyter-widgets/controls",
          "model_name": "ProgressStyleModel",
          "state": {
            "_view_name": "StyleView",
            "_model_name": "ProgressStyleModel",
            "description_width": "initial",
            "_view_module": "@jupyter-widgets/base",
            "_model_module_version": "1.5.0",
            "_view_count": null,
            "_view_module_version": "1.2.0",
            "bar_color": null,
            "_model_module": "@jupyter-widgets/controls"
          }
        },
        "8fd8807519654be1a60e1bd950a49dba": {
          "model_module": "@jupyter-widgets/base",
          "model_name": "LayoutModel",
          "state": {
            "_view_name": "LayoutView",
            "grid_template_rows": null,
            "right": null,
            "justify_content": null,
            "_view_module": "@jupyter-widgets/base",
            "overflow": null,
            "_model_module_version": "1.2.0",
            "_view_count": null,
            "flex_flow": null,
            "width": null,
            "min_width": null,
            "border": null,
            "align_items": null,
            "bottom": null,
            "_model_module": "@jupyter-widgets/base",
            "top": null,
            "grid_column": null,
            "overflow_y": null,
            "overflow_x": null,
            "grid_auto_flow": null,
            "grid_area": null,
            "grid_template_columns": null,
            "flex": null,
            "_model_name": "LayoutModel",
            "justify_items": null,
            "grid_row": null,
            "max_height": null,
            "align_content": null,
            "visibility": null,
            "align_self": null,
            "height": null,
            "min_height": null,
            "padding": null,
            "grid_auto_rows": null,
            "grid_gap": null,
            "max_width": null,
            "order": null,
            "_view_module_version": "1.2.0",
            "grid_template_areas": null,
            "object_position": null,
            "object_fit": null,
            "grid_auto_columns": null,
            "margin": null,
            "display": null,
            "left": null
          }
        },
        "277e3995e4cc4577b1a7b58e14560d5b": {
          "model_module": "@jupyter-widgets/controls",
          "model_name": "DescriptionStyleModel",
          "state": {
            "_view_name": "StyleView",
            "_model_name": "DescriptionStyleModel",
            "description_width": "",
            "_view_module": "@jupyter-widgets/base",
            "_model_module_version": "1.5.0",
            "_view_count": null,
            "_view_module_version": "1.2.0",
            "_model_module": "@jupyter-widgets/controls"
          }
        },
        "7380edb75e804c0f8923537cfc6cedf9": {
          "model_module": "@jupyter-widgets/base",
          "model_name": "LayoutModel",
          "state": {
            "_view_name": "LayoutView",
            "grid_template_rows": null,
            "right": null,
            "justify_content": null,
            "_view_module": "@jupyter-widgets/base",
            "overflow": null,
            "_model_module_version": "1.2.0",
            "_view_count": null,
            "flex_flow": null,
            "width": null,
            "min_width": null,
            "border": null,
            "align_items": null,
            "bottom": null,
            "_model_module": "@jupyter-widgets/base",
            "top": null,
            "grid_column": null,
            "overflow_y": null,
            "overflow_x": null,
            "grid_auto_flow": null,
            "grid_area": null,
            "grid_template_columns": null,
            "flex": null,
            "_model_name": "LayoutModel",
            "justify_items": null,
            "grid_row": null,
            "max_height": null,
            "align_content": null,
            "visibility": null,
            "align_self": null,
            "height": null,
            "min_height": null,
            "padding": null,
            "grid_auto_rows": null,
            "grid_gap": null,
            "max_width": null,
            "order": null,
            "_view_module_version": "1.2.0",
            "grid_template_areas": null,
            "object_position": null,
            "object_fit": null,
            "grid_auto_columns": null,
            "margin": null,
            "display": null,
            "left": null
          }
        },
        "fe3fd92268014d2f8b5326ace5a6c636": {
          "model_module": "@jupyter-widgets/controls",
          "model_name": "HBoxModel",
          "state": {
            "_view_name": "HBoxView",
            "_dom_classes": [],
            "_model_name": "HBoxModel",
            "_view_module": "@jupyter-widgets/controls",
            "_model_module_version": "1.5.0",
            "_view_count": null,
            "_view_module_version": "1.5.0",
            "box_style": "",
            "layout": "IPY_MODEL_9eafee42cdf544528b9ba55aed1ae83d",
            "_model_module": "@jupyter-widgets/controls",
            "children": [
              "IPY_MODEL_7a6a3dd00d1c4b8295ae553302ecb14b",
              "IPY_MODEL_6f82b2c795dc4bdb946ba696dcd19f52"
            ]
          }
        },
        "9eafee42cdf544528b9ba55aed1ae83d": {
          "model_module": "@jupyter-widgets/base",
          "model_name": "LayoutModel",
          "state": {
            "_view_name": "LayoutView",
            "grid_template_rows": null,
            "right": null,
            "justify_content": null,
            "_view_module": "@jupyter-widgets/base",
            "overflow": null,
            "_model_module_version": "1.2.0",
            "_view_count": null,
            "flex_flow": null,
            "width": null,
            "min_width": null,
            "border": null,
            "align_items": null,
            "bottom": null,
            "_model_module": "@jupyter-widgets/base",
            "top": null,
            "grid_column": null,
            "overflow_y": null,
            "overflow_x": null,
            "grid_auto_flow": null,
            "grid_area": null,
            "grid_template_columns": null,
            "flex": null,
            "_model_name": "LayoutModel",
            "justify_items": null,
            "grid_row": null,
            "max_height": null,
            "align_content": null,
            "visibility": null,
            "align_self": null,
            "height": null,
            "min_height": null,
            "padding": null,
            "grid_auto_rows": null,
            "grid_gap": null,
            "max_width": null,
            "order": null,
            "_view_module_version": "1.2.0",
            "grid_template_areas": null,
            "object_position": null,
            "object_fit": null,
            "grid_auto_columns": null,
            "margin": null,
            "display": null,
            "left": null
          }
        },
        "7a6a3dd00d1c4b8295ae553302ecb14b": {
          "model_module": "@jupyter-widgets/controls",
          "model_name": "FloatProgressModel",
          "state": {
            "_view_name": "ProgressView",
            "style": "IPY_MODEL_ee7f8b23ce4047c9a1d97363d34f9789",
            "_dom_classes": [],
            "description": "Downloading: 100%",
            "_model_name": "FloatProgressModel",
            "bar_style": "success",
            "max": 548118077,
            "_view_module": "@jupyter-widgets/controls",
            "_model_module_version": "1.5.0",
            "value": 548118077,
            "_view_count": null,
            "_view_module_version": "1.5.0",
            "orientation": "horizontal",
            "min": 0,
            "description_tooltip": null,
            "_model_module": "@jupyter-widgets/controls",
            "layout": "IPY_MODEL_25fe51e9d95c40739b2abd21d551b661"
          }
        },
        "6f82b2c795dc4bdb946ba696dcd19f52": {
          "model_module": "@jupyter-widgets/controls",
          "model_name": "HTMLModel",
          "state": {
            "_view_name": "HTMLView",
            "style": "IPY_MODEL_058317cc4fbb42cca6f56557ed2c8379",
            "_dom_classes": [],
            "description": "",
            "_model_name": "HTMLModel",
            "placeholder": "​",
            "_view_module": "@jupyter-widgets/controls",
            "_model_module_version": "1.5.0",
            "value": " 548M/548M [00:07&lt;00:00, 70.6MB/s]",
            "_view_count": null,
            "_view_module_version": "1.5.0",
            "description_tooltip": null,
            "_model_module": "@jupyter-widgets/controls",
            "layout": "IPY_MODEL_81c748f124df46878c30892f631fc296"
          }
        },
        "ee7f8b23ce4047c9a1d97363d34f9789": {
          "model_module": "@jupyter-widgets/controls",
          "model_name": "ProgressStyleModel",
          "state": {
            "_view_name": "StyleView",
            "_model_name": "ProgressStyleModel",
            "description_width": "initial",
            "_view_module": "@jupyter-widgets/base",
            "_model_module_version": "1.5.0",
            "_view_count": null,
            "_view_module_version": "1.2.0",
            "bar_color": null,
            "_model_module": "@jupyter-widgets/controls"
          }
        },
        "25fe51e9d95c40739b2abd21d551b661": {
          "model_module": "@jupyter-widgets/base",
          "model_name": "LayoutModel",
          "state": {
            "_view_name": "LayoutView",
            "grid_template_rows": null,
            "right": null,
            "justify_content": null,
            "_view_module": "@jupyter-widgets/base",
            "overflow": null,
            "_model_module_version": "1.2.0",
            "_view_count": null,
            "flex_flow": null,
            "width": null,
            "min_width": null,
            "border": null,
            "align_items": null,
            "bottom": null,
            "_model_module": "@jupyter-widgets/base",
            "top": null,
            "grid_column": null,
            "overflow_y": null,
            "overflow_x": null,
            "grid_auto_flow": null,
            "grid_area": null,
            "grid_template_columns": null,
            "flex": null,
            "_model_name": "LayoutModel",
            "justify_items": null,
            "grid_row": null,
            "max_height": null,
            "align_content": null,
            "visibility": null,
            "align_self": null,
            "height": null,
            "min_height": null,
            "padding": null,
            "grid_auto_rows": null,
            "grid_gap": null,
            "max_width": null,
            "order": null,
            "_view_module_version": "1.2.0",
            "grid_template_areas": null,
            "object_position": null,
            "object_fit": null,
            "grid_auto_columns": null,
            "margin": null,
            "display": null,
            "left": null
          }
        },
        "058317cc4fbb42cca6f56557ed2c8379": {
          "model_module": "@jupyter-widgets/controls",
          "model_name": "DescriptionStyleModel",
          "state": {
            "_view_name": "StyleView",
            "_model_name": "DescriptionStyleModel",
            "description_width": "",
            "_view_module": "@jupyter-widgets/base",
            "_model_module_version": "1.5.0",
            "_view_count": null,
            "_view_module_version": "1.2.0",
            "_model_module": "@jupyter-widgets/controls"
          }
        },
        "81c748f124df46878c30892f631fc296": {
          "model_module": "@jupyter-widgets/base",
          "model_name": "LayoutModel",
          "state": {
            "_view_name": "LayoutView",
            "grid_template_rows": null,
            "right": null,
            "justify_content": null,
            "_view_module": "@jupyter-widgets/base",
            "overflow": null,
            "_model_module_version": "1.2.0",
            "_view_count": null,
            "flex_flow": null,
            "width": null,
            "min_width": null,
            "border": null,
            "align_items": null,
            "bottom": null,
            "_model_module": "@jupyter-widgets/base",
            "top": null,
            "grid_column": null,
            "overflow_y": null,
            "overflow_x": null,
            "grid_auto_flow": null,
            "grid_area": null,
            "grid_template_columns": null,
            "flex": null,
            "_model_name": "LayoutModel",
            "justify_items": null,
            "grid_row": null,
            "max_height": null,
            "align_content": null,
            "visibility": null,
            "align_self": null,
            "height": null,
            "min_height": null,
            "padding": null,
            "grid_auto_rows": null,
            "grid_gap": null,
            "max_width": null,
            "order": null,
            "_view_module_version": "1.2.0",
            "grid_template_areas": null,
            "object_position": null,
            "object_fit": null,
            "grid_auto_columns": null,
            "margin": null,
            "display": null,
            "left": null
          }
        }
      }
    }
  },
  "cells": [
    {
      "cell_type": "code",
      "metadata": {
        "id": "I-bHS6nJdz50",
        "colab_type": "code",
        "colab": {
          "base_uri": "https://localhost:8080/",
          "height": 595
        },
        "outputId": "e66526f7-c751-4d84-b1e4-59ae9f53e951"
      },
      "source": [
        "!pip install transformers"
      ],
      "execution_count": 1,
      "outputs": [
        {
          "output_type": "stream",
          "text": [
            "Collecting transformers\n",
            "\u001b[?25l  Downloading https://files.pythonhosted.org/packages/27/3c/91ed8f5c4e7ef3227b4119200fc0ed4b4fd965b1f0172021c25701087825/transformers-3.0.2-py3-none-any.whl (769kB)\n",
            "\r\u001b[K     |▍                               | 10kB 24.5MB/s eta 0:00:01\r\u001b[K     |▉                               | 20kB 2.9MB/s eta 0:00:01\r\u001b[K     |█▎                              | 30kB 3.8MB/s eta 0:00:01\r\u001b[K     |█▊                              | 40kB 4.2MB/s eta 0:00:01\r\u001b[K     |██▏                             | 51kB 3.5MB/s eta 0:00:01\r\u001b[K     |██▋                             | 61kB 3.8MB/s eta 0:00:01\r\u001b[K     |███                             | 71kB 4.2MB/s eta 0:00:01\r\u001b[K     |███▍                            | 81kB 4.4MB/s eta 0:00:01\r\u001b[K     |███▉                            | 92kB 4.8MB/s eta 0:00:01\r\u001b[K     |████▎                           | 102kB 4.7MB/s eta 0:00:01\r\u001b[K     |████▊                           | 112kB 4.7MB/s eta 0:00:01\r\u001b[K     |█████▏                          | 122kB 4.7MB/s eta 0:00:01\r\u001b[K     |█████▌                          | 133kB 4.7MB/s eta 0:00:01\r\u001b[K     |██████                          | 143kB 4.7MB/s eta 0:00:01\r\u001b[K     |██████▍                         | 153kB 4.7MB/s eta 0:00:01\r\u001b[K     |██████▉                         | 163kB 4.7MB/s eta 0:00:01\r\u001b[K     |███████▎                        | 174kB 4.7MB/s eta 0:00:01\r\u001b[K     |███████▊                        | 184kB 4.7MB/s eta 0:00:01\r\u001b[K     |████████                        | 194kB 4.7MB/s eta 0:00:01\r\u001b[K     |████████▌                       | 204kB 4.7MB/s eta 0:00:01\r\u001b[K     |█████████                       | 215kB 4.7MB/s eta 0:00:01\r\u001b[K     |█████████▍                      | 225kB 4.7MB/s eta 0:00:01\r\u001b[K     |█████████▉                      | 235kB 4.7MB/s eta 0:00:01\r\u001b[K     |██████████▎                     | 245kB 4.7MB/s eta 0:00:01\r\u001b[K     |██████████▋                     | 256kB 4.7MB/s eta 0:00:01\r\u001b[K     |███████████                     | 266kB 4.7MB/s eta 0:00:01\r\u001b[K     |███████████▌                    | 276kB 4.7MB/s eta 0:00:01\r\u001b[K     |████████████                    | 286kB 4.7MB/s eta 0:00:01\r\u001b[K     |████████████▍                   | 296kB 4.7MB/s eta 0:00:01\r\u001b[K     |████████████▉                   | 307kB 4.7MB/s eta 0:00:01\r\u001b[K     |█████████████▏                  | 317kB 4.7MB/s eta 0:00:01\r\u001b[K     |█████████████▋                  | 327kB 4.7MB/s eta 0:00:01\r\u001b[K     |██████████████                  | 337kB 4.7MB/s eta 0:00:01\r\u001b[K     |██████████████▌                 | 348kB 4.7MB/s eta 0:00:01\r\u001b[K     |███████████████                 | 358kB 4.7MB/s eta 0:00:01\r\u001b[K     |███████████████▍                | 368kB 4.7MB/s eta 0:00:01\r\u001b[K     |███████████████▊                | 378kB 4.7MB/s eta 0:00:01\r\u001b[K     |████████████████▏               | 389kB 4.7MB/s eta 0:00:01\r\u001b[K     |████████████████▋               | 399kB 4.7MB/s eta 0:00:01\r\u001b[K     |█████████████████               | 409kB 4.7MB/s eta 0:00:01\r\u001b[K     |█████████████████▌              | 419kB 4.7MB/s eta 0:00:01\r\u001b[K     |██████████████████              | 430kB 4.7MB/s eta 0:00:01\r\u001b[K     |██████████████████▎             | 440kB 4.7MB/s eta 0:00:01\r\u001b[K     |██████████████████▊             | 450kB 4.7MB/s eta 0:00:01\r\u001b[K     |███████████████████▏            | 460kB 4.7MB/s eta 0:00:01\r\u001b[K     |███████████████████▋            | 471kB 4.7MB/s eta 0:00:01\r\u001b[K     |████████████████████            | 481kB 4.7MB/s eta 0:00:01\r\u001b[K     |████████████████████▌           | 491kB 4.7MB/s eta 0:00:01\r\u001b[K     |████████████████████▉           | 501kB 4.7MB/s eta 0:00:01\r\u001b[K     |█████████████████████▎          | 512kB 4.7MB/s eta 0:00:01\r\u001b[K     |█████████████████████▊          | 522kB 4.7MB/s eta 0:00:01\r\u001b[K     |██████████████████████▏         | 532kB 4.7MB/s eta 0:00:01\r\u001b[K     |██████████████████████▋         | 542kB 4.7MB/s eta 0:00:01\r\u001b[K     |███████████████████████         | 552kB 4.7MB/s eta 0:00:01\r\u001b[K     |███████████████████████▍        | 563kB 4.7MB/s eta 0:00:01\r\u001b[K     |███████████████████████▉        | 573kB 4.7MB/s eta 0:00:01\r\u001b[K     |████████████████████████▎       | 583kB 4.7MB/s eta 0:00:01\r\u001b[K     |████████████████████████▊       | 593kB 4.7MB/s eta 0:00:01\r\u001b[K     |█████████████████████████▏      | 604kB 4.7MB/s eta 0:00:01\r\u001b[K     |█████████████████████████▋      | 614kB 4.7MB/s eta 0:00:01\r\u001b[K     |██████████████████████████      | 624kB 4.7MB/s eta 0:00:01\r\u001b[K     |██████████████████████████▍     | 634kB 4.7MB/s eta 0:00:01\r\u001b[K     |██████████████████████████▉     | 645kB 4.7MB/s eta 0:00:01\r\u001b[K     |███████████████████████████▎    | 655kB 4.7MB/s eta 0:00:01\r\u001b[K     |███████████████████████████▊    | 665kB 4.7MB/s eta 0:00:01\r\u001b[K     |████████████████████████████▏   | 675kB 4.7MB/s eta 0:00:01\r\u001b[K     |████████████████████████████▌   | 686kB 4.7MB/s eta 0:00:01\r\u001b[K     |█████████████████████████████   | 696kB 4.7MB/s eta 0:00:01\r\u001b[K     |█████████████████████████████▍  | 706kB 4.7MB/s eta 0:00:01\r\u001b[K     |█████████████████████████████▉  | 716kB 4.7MB/s eta 0:00:01\r\u001b[K     |██████████████████████████████▎ | 727kB 4.7MB/s eta 0:00:01\r\u001b[K     |██████████████████████████████▊ | 737kB 4.7MB/s eta 0:00:01\r\u001b[K     |███████████████████████████████ | 747kB 4.7MB/s eta 0:00:01\r\u001b[K     |███████████████████████████████▌| 757kB 4.7MB/s eta 0:00:01\r\u001b[K     |████████████████████████████████| 768kB 4.7MB/s eta 0:00:01\r\u001b[K     |████████████████████████████████| 778kB 4.7MB/s \n",
            "\u001b[?25hRequirement already satisfied: packaging in /usr/local/lib/python3.6/dist-packages (from transformers) (20.4)\n",
            "Requirement already satisfied: dataclasses; python_version < \"3.7\" in /usr/local/lib/python3.6/dist-packages (from transformers) (0.7)\n",
            "Requirement already satisfied: tqdm>=4.27 in /usr/local/lib/python3.6/dist-packages (from transformers) (4.41.1)\n",
            "Requirement already satisfied: requests in /usr/local/lib/python3.6/dist-packages (from transformers) (2.23.0)\n",
            "Collecting sentencepiece!=0.1.92\n",
            "\u001b[?25l  Downloading https://files.pythonhosted.org/packages/d4/a4/d0a884c4300004a78cca907a6ff9a5e9fe4f090f5d95ab341c53d28cbc58/sentencepiece-0.1.91-cp36-cp36m-manylinux1_x86_64.whl (1.1MB)\n",
            "\u001b[K     |████████████████████████████████| 1.1MB 23.9MB/s \n",
            "\u001b[?25hRequirement already satisfied: numpy in /usr/local/lib/python3.6/dist-packages (from transformers) (1.18.5)\n",
            "Collecting tokenizers==0.8.1.rc1\n",
            "\u001b[?25l  Downloading https://files.pythonhosted.org/packages/40/d0/30d5f8d221a0ed981a186c8eb986ce1c94e3a6e87f994eae9f4aa5250217/tokenizers-0.8.1rc1-cp36-cp36m-manylinux1_x86_64.whl (3.0MB)\n",
            "\u001b[K     |████████████████████████████████| 3.0MB 49.6MB/s \n",
            "\u001b[?25hRequirement already satisfied: regex!=2019.12.17 in /usr/local/lib/python3.6/dist-packages (from transformers) (2019.12.20)\n",
            "Requirement already satisfied: filelock in /usr/local/lib/python3.6/dist-packages (from transformers) (3.0.12)\n",
            "Collecting sacremoses\n",
            "\u001b[?25l  Downloading https://files.pythonhosted.org/packages/7d/34/09d19aff26edcc8eb2a01bed8e98f13a1537005d31e95233fd48216eed10/sacremoses-0.0.43.tar.gz (883kB)\n",
            "\u001b[K     |████████████████████████████████| 890kB 53.3MB/s \n",
            "\u001b[?25hRequirement already satisfied: pyparsing>=2.0.2 in /usr/local/lib/python3.6/dist-packages (from packaging->transformers) (2.4.7)\n",
            "Requirement already satisfied: six in /usr/local/lib/python3.6/dist-packages (from packaging->transformers) (1.15.0)\n",
            "Requirement already satisfied: certifi>=2017.4.17 in /usr/local/lib/python3.6/dist-packages (from requests->transformers) (2020.6.20)\n",
            "Requirement already satisfied: idna<3,>=2.5 in /usr/local/lib/python3.6/dist-packages (from requests->transformers) (2.10)\n",
            "Requirement already satisfied: chardet<4,>=3.0.2 in /usr/local/lib/python3.6/dist-packages (from requests->transformers) (3.0.4)\n",
            "Requirement already satisfied: urllib3!=1.25.0,!=1.25.1,<1.26,>=1.21.1 in /usr/local/lib/python3.6/dist-packages (from requests->transformers) (1.24.3)\n",
            "Requirement already satisfied: click in /usr/local/lib/python3.6/dist-packages (from sacremoses->transformers) (7.1.2)\n",
            "Requirement already satisfied: joblib in /usr/local/lib/python3.6/dist-packages (from sacremoses->transformers) (0.16.0)\n",
            "Building wheels for collected packages: sacremoses\n",
            "  Building wheel for sacremoses (setup.py) ... \u001b[?25l\u001b[?25hdone\n",
            "  Created wheel for sacremoses: filename=sacremoses-0.0.43-cp36-none-any.whl size=893260 sha256=945e2df43ee61384ecbf7a117ff1b18f7b21dd450eddbcc39be49fe210e5faa5\n",
            "  Stored in directory: /root/.cache/pip/wheels/29/3c/fd/7ce5c3f0666dab31a50123635e6fb5e19ceb42ce38d4e58f45\n",
            "Successfully built sacremoses\n",
            "Installing collected packages: sentencepiece, tokenizers, sacremoses, transformers\n",
            "Successfully installed sacremoses-0.0.43 sentencepiece-0.1.91 tokenizers-0.8.1rc1 transformers-3.0.2\n"
          ],
          "name": "stdout"
        }
      ]
    },
    {
      "cell_type": "code",
      "metadata": {
        "id": "1RZJEVb6dbUv",
        "colab_type": "code",
        "colab": {
          "base_uri": "https://localhost:8080/",
          "height": 34
        },
        "outputId": "5155387f-7963-424d-a64b-1d211775c006"
      },
      "source": [
        "import torch\n",
        "import json\n",
        "import csv\n",
        "import os\n",
        "import time\n",
        "\n",
        "import numpy as np\n",
        "import pandas as pd\n",
        "import matplotlib.pyplot as plt\n",
        "\n",
        "from transformers import GPT2Tokenizer, GPT2LMHeadModel\n",
        "from transformers import AdamW, get_linear_schedule_with_warmup\n",
        "\n",
        "\n",
        "\n",
        "device = 'cuda' if torch.cuda.is_available() else 'cpu'\n",
        "print(f'Using device: {device}')"
      ],
      "execution_count": 30,
      "outputs": [
        {
          "output_type": "stream",
          "text": [
            "Using device: cuda\n"
          ],
          "name": "stdout"
        }
      ]
    },
    {
      "cell_type": "markdown",
      "metadata": {
        "id": "JXikLtVVeiuu",
        "colab_type": "text"
      },
      "source": [
        "# Load GPT-2 Medium "
      ]
    },
    {
      "cell_type": "code",
      "metadata": {
        "id": "lwJpuU_9dvna",
        "colab_type": "code",
        "colab": {
          "base_uri": "https://localhost:8080/",
          "height": 267,
          "referenced_widgets": [
            "997667c44ee3463cb0e546415aca2c22",
            "9a5c4df9eeda46a4bb656e3722a006d2",
            "9d044a3cfa3f431b8f96ad4ea2ee7aa1",
            "e87a1bde58a0490f9e93657456cafc9f",
            "c7fe4c3191234e1699136ea0af8f9234",
            "b451b3cb3a22423898a407b97ebb94c1",
            "3d858a2cfd0d4e3992c2e5fb48238827",
            "3cf029f60453442eb0dbd55b8b9b155c",
            "8b99ae9799fd4239bfdfe5e85c71479f",
            "5ab16509f54e420c9387ee6d08101d67",
            "918f440eb2cd4f8a95f1076b20b00318",
            "0ae27442a26c4d55b10391a980147e70",
            "bc910b206b6e4fee9a5ea6712144d61e",
            "c4e948d210f443f4b06090cc8e344349",
            "93e624fb08f54084a34e594e4f0b93a7",
            "006d6c19d2324f6db93fa4ee5c18038b",
            "f405461abd7e493fbb450fb1734cbd7f",
            "56d083d0db7a4827a1a96971b60a4bc4",
            "17805609140c478cb1fb196447c53218",
            "afad3a41a3fc4eb1ba76e26d75b5dd1c",
            "cc71985b8e454049a69c6a65778f03a9",
            "8fd8807519654be1a60e1bd950a49dba",
            "277e3995e4cc4577b1a7b58e14560d5b",
            "7380edb75e804c0f8923537cfc6cedf9",
            "fe3fd92268014d2f8b5326ace5a6c636",
            "9eafee42cdf544528b9ba55aed1ae83d",
            "7a6a3dd00d1c4b8295ae553302ecb14b",
            "6f82b2c795dc4bdb946ba696dcd19f52",
            "ee7f8b23ce4047c9a1d97363d34f9789",
            "25fe51e9d95c40739b2abd21d551b661",
            "058317cc4fbb42cca6f56557ed2c8379",
            "81c748f124df46878c30892f631fc296"
          ]
        },
        "outputId": "0566ffc8-fb56-4f9c-ea04-ed26e84818a7"
      },
      "source": [
        "tokenizer = GPT2Tokenizer.from_pretrained('gpt2', model_max_length=1024)\n",
        "model = GPT2LMHeadModel.from_pretrained('gpt2')\n",
        "model = model.to(device)"
      ],
      "execution_count": 3,
      "outputs": [
        {
          "output_type": "display_data",
          "data": {
            "application/vnd.jupyter.widget-view+json": {
              "model_id": "997667c44ee3463cb0e546415aca2c22",
              "version_minor": 0,
              "version_major": 2
            },
            "text/plain": [
              "HBox(children=(FloatProgress(value=0.0, description='Downloading', max=1042301.0, style=ProgressStyle(descript…"
            ]
          },
          "metadata": {
            "tags": []
          }
        },
        {
          "output_type": "stream",
          "text": [
            "\n"
          ],
          "name": "stdout"
        },
        {
          "output_type": "display_data",
          "data": {
            "application/vnd.jupyter.widget-view+json": {
              "model_id": "8b99ae9799fd4239bfdfe5e85c71479f",
              "version_minor": 0,
              "version_major": 2
            },
            "text/plain": [
              "HBox(children=(FloatProgress(value=0.0, description='Downloading', max=456318.0, style=ProgressStyle(descripti…"
            ]
          },
          "metadata": {
            "tags": []
          }
        },
        {
          "output_type": "stream",
          "text": [
            "\n"
          ],
          "name": "stdout"
        },
        {
          "output_type": "display_data",
          "data": {
            "application/vnd.jupyter.widget-view+json": {
              "model_id": "f405461abd7e493fbb450fb1734cbd7f",
              "version_minor": 0,
              "version_major": 2
            },
            "text/plain": [
              "HBox(children=(FloatProgress(value=0.0, description='Downloading', max=665.0, style=ProgressStyle(description_…"
            ]
          },
          "metadata": {
            "tags": []
          }
        },
        {
          "output_type": "stream",
          "text": [
            "\n"
          ],
          "name": "stdout"
        },
        {
          "output_type": "display_data",
          "data": {
            "application/vnd.jupyter.widget-view+json": {
              "model_id": "fe3fd92268014d2f8b5326ace5a6c636",
              "version_minor": 0,
              "version_major": 2
            },
            "text/plain": [
              "HBox(children=(FloatProgress(value=0.0, description='Downloading', max=548118077.0, style=ProgressStyle(descri…"
            ]
          },
          "metadata": {
            "tags": []
          }
        },
        {
          "output_type": "stream",
          "text": [
            "\n"
          ],
          "name": "stdout"
        },
        {
          "output_type": "stream",
          "text": [
            "Some weights of GPT2LMHeadModel were not initialized from the model checkpoint at gpt2 and are newly initialized: ['h.0.attn.masked_bias', 'h.1.attn.masked_bias', 'h.2.attn.masked_bias', 'h.3.attn.masked_bias', 'h.4.attn.masked_bias', 'h.5.attn.masked_bias', 'h.6.attn.masked_bias', 'h.7.attn.masked_bias', 'h.8.attn.masked_bias', 'h.9.attn.masked_bias', 'h.10.attn.masked_bias', 'h.11.attn.masked_bias', 'lm_head.weight']\n",
            "You should probably TRAIN this model on a down-stream task to be able to use it for predictions and inference.\n"
          ],
          "name": "stderr"
        }
      ]
    },
    {
      "cell_type": "markdown",
      "metadata": {
        "id": "YYjQE8lPppK5",
        "colab_type": "text"
      },
      "source": [
        "# Helper functions"
      ]
    },
    {
      "cell_type": "code",
      "metadata": {
        "id": "X0yxogS8d90v",
        "colab_type": "code",
        "colab": {}
      },
      "source": [
        "class ModelWrapper:\n",
        "    def __init__(self, model, tokenizer):\n",
        "        self.model = model\n",
        "        self.tokenizer = tokenizer\n",
        "        self.device = 'cuda' if torch.cuda.is_available() else 'cpu'\n",
        "\n",
        "        self.set_generation_settings()\n",
        "\n",
        "    def set_generation_settings(self, params={}):\n",
        "        if params:\n",
        "            for key in params:\n",
        "                self.gen_params[key] = params[key]\n",
        "        else:\n",
        "            self.gen_params = {\n",
        "                'max_length': 512,\n",
        "                'top_p': 0.92,\n",
        "                'top_k': 0,\n",
        "                'temperature': 0.7 \n",
        "            }\n",
        "\n",
        "    def generate(self, prompt='', keywords=[], category=''):\n",
        "        input = '<|startoftext|>'\n",
        "        if category:\n",
        "            assert category in ['positive', 'negative']\n",
        "            input += f'~`{category}'\n",
        "        if keywords:\n",
        "            keywords = [ k.replace(' ', '-') for k in keywords ]\n",
        "            input += f\"~^{' '.join(keywords)}\"\n",
        "        \n",
        "        input += f\"~@{prompt if prompt else ''}\"\n",
        "        input_encoded = self.tokenizer.encode(input, return_tensors='pt').to(self.device)\n",
        "\n",
        "        outputs = self.model.generate(\n",
        "            input_encoded,\n",
        "            do_sample=True, \n",
        "            **self.gen_params\n",
        "        )\n",
        "\n",
        "        # TODO: force outputs with keywords (?)\n",
        "        outputs_decoded = [ self.tokenizer.decode(out, skip_special_tokens=True).split('~@')[-1] for out in outputs ]\n",
        "        return outputs_decoded\n"
      ],
      "execution_count": 83,
      "outputs": []
    },
    {
      "cell_type": "markdown",
      "metadata": {
        "id": "ld2jV9AJjk7H",
        "colab_type": "text"
      },
      "source": [
        "# Reviews dataset"
      ]
    },
    {
      "cell_type": "code",
      "metadata": {
        "id": "y9Qw6cZr4KA_",
        "colab_type": "code",
        "colab": {
          "base_uri": "https://localhost:8080/",
          "height": 122
        },
        "outputId": "7b29a9b4-d477-4b05-a413-69a682b7eae9"
      },
      "source": [
        "from google.colab import drive\n",
        "drive.mount(\"/content/drive\", force_remount=True)"
      ],
      "execution_count": 24,
      "outputs": [
        {
          "output_type": "stream",
          "text": [
            "Go to this URL in a browser: https://accounts.google.com/o/oauth2/auth?client_id=947318989803-6bn6qk8qdgf4n4g3pfee6491hc0brc4i.apps.googleusercontent.com&redirect_uri=urn%3aietf%3awg%3aoauth%3a2.0%3aoob&scope=email%20https%3a%2f%2fwww.googleapis.com%2fauth%2fdocs.test%20https%3a%2f%2fwww.googleapis.com%2fauth%2fdrive%20https%3a%2f%2fwww.googleapis.com%2fauth%2fdrive.photos.readonly%20https%3a%2f%2fwww.googleapis.com%2fauth%2fpeopleapi.readonly&response_type=code\n",
            "\n",
            "Enter your authorization code:\n",
            "··········\n",
            "Mounted at /content/drive\n"
          ],
          "name": "stdout"
        }
      ]
    },
    {
      "cell_type": "code",
      "metadata": {
        "id": "7o6HT6QX4by3",
        "colab_type": "code",
        "colab": {
          "base_uri": "https://localhost:8080/",
          "height": 34
        },
        "outputId": "438b3070-3c5d-4d2b-82fd-2e1ae1a12f5f"
      },
      "source": [
        "DATA_PATH = '/content/drive/My Drive/Data Science/Datasets'\n",
        "!ls '$DATA_PATH'"
      ],
      "execution_count": 25,
      "outputs": [
        {
          "output_type": "stream",
          "text": [
            "reviews_nlp_encoded.txt\n"
          ],
          "name": "stdout"
        }
      ]
    },
    {
      "cell_type": "code",
      "metadata": {
        "id": "rjVKNlOlg79K",
        "colab_type": "code",
        "colab": {}
      },
      "source": [
        "from torch.utils.data import Dataset, DataLoader\n",
        "MAX_SEQ_LEN = 1000\n",
        "\n",
        "class ReviewsDataset(Dataset):\n",
        "    def __init__(self, filename):\n",
        "        super().__init__()\n",
        "\n",
        "        with open(filename) as data_file:\n",
        "          self.reviews = data_file.readlines()\n",
        "        \n",
        "        self.join_sequences()\n",
        "\n",
        "    def join_sequences(self):\n",
        "        joined = []\n",
        "        temp_reviews_tens = None\n",
        "        for review in self.reviews:\n",
        "            # fit as many review sequences into MAX_SEQ_LEN sequence as possible\n",
        "            review_tens = torch.tensor(tokenizer.encode(review, max_length=MAX_SEQ_LEN, truncation=True)).unsqueeze(0)\n",
        "\n",
        "            # the first review sequence in the sequence\n",
        "            if not torch.is_tensor(temp_reviews_tens):\n",
        "                temp_reviews_tens = review_tens\n",
        "                continue\n",
        "            else:\n",
        "                # the next review does not fit in so we process the sequence and leave the last review \n",
        "                # as the start for next sequence \n",
        "                if temp_reviews_tens.size()[1] + review_tens.size()[1] < MAX_SEQ_LEN:\n",
        "                    # add the review to sequence, continue and try to add more\n",
        "                    temp_reviews_tens = torch.cat([temp_reviews_tens, review_tens[:, 1:]], dim=1)\n",
        "                    continue\n",
        "                else:\n",
        "                    work_reviews_tens, temp_reviews_tens = temp_reviews_tens, review_tens\n",
        "            joined.append(work_reviews_tens)\n",
        "          \n",
        "        self.encoded_joined_seq = joined\n",
        "\n",
        "    def __len__(self):\n",
        "        return len(self.encoded_joined_seq)\n",
        "\n",
        "    def __getitem__(self, idx):\n",
        "        return self.encoded_joined_seq[idx]\n",
        "\n",
        "review_dataset = ReviewsDataset(f'{DATA_PATH}/reviews_nlp_encoded.txt')\n",
        "review_loader = DataLoader(review_dataset, batch_size=1, shuffle=True)"
      ],
      "execution_count": 26,
      "outputs": []
    },
    {
      "cell_type": "markdown",
      "metadata": {
        "id": "-WePSCj4DTvm",
        "colab_type": "text"
      },
      "source": [
        "# Hyperparameters"
      ]
    },
    {
      "cell_type": "code",
      "metadata": {
        "id": "dLfOsi8BDETo",
        "colab_type": "code",
        "colab": {}
      },
      "source": [
        "BATCH_SIZE = 5\n",
        "EPOCHS = 8\n",
        "LEARNING_RATE = 1e-4\n",
        "WARMUP_FRAC = 0.25\n",
        "TRAINING_STEPS = len(review_loader)*EPOCHS//BATCH_SIZE"
      ],
      "execution_count": 28,
      "outputs": []
    },
    {
      "cell_type": "code",
      "metadata": {
        "id": "zChsgrqpwsiB",
        "colab_type": "code",
        "colab": {
          "base_uri": "https://localhost:8080/",
          "height": 34
        },
        "outputId": "fefc64d1-0b19-4f7f-af68-3016c782b890"
      },
      "source": [
        "print(f'There are {TRAINING_STEPS} training steps ({TRAINING_STEPS/EPOCHS} per epoch).')"
      ],
      "execution_count": 29,
      "outputs": [
        {
          "output_type": "stream",
          "text": [
            "There are 6848 training steps (856.0 per epoch).\n"
          ],
          "name": "stdout"
        }
      ]
    },
    {
      "cell_type": "markdown",
      "metadata": {
        "id": "IpL9nymxDyAO",
        "colab_type": "text"
      },
      "source": [
        "# Training"
      ]
    },
    {
      "cell_type": "code",
      "metadata": {
        "id": "x3-izXatDz1O",
        "colab_type": "code",
        "colab": {
          "base_uri": "https://localhost:8080/",
          "height": 697
        },
        "outputId": "2a33861c-09fa-4dc7-b059-85f7237007b2"
      },
      "source": [
        "model = model.to(device)\n",
        "model.train()\n",
        "\n",
        "optimizer = AdamW(model.parameters(), lr=LEARNING_RATE)\n",
        "scheduler = get_linear_schedule_with_warmup(optimizer, num_warmup_steps=int(WARMUP_FRAC*TRAINING_STEPS), num_training_steps=TRAINING_STEPS)\n",
        "\n",
        "loss_history = []\n",
        "batch_count = 0\n",
        "reviews_count = 0\n",
        "print_loss_every = int(TRAINING_STEPS/EPOCHS/3)\n",
        "\n",
        "temp_reviews_tens = None\n",
        "models_dir = \"models\"\n",
        "if not os.path.exists(models_dir):\n",
        "    os.mkdir(models_dir)\n",
        "\n",
        "for epoch in range(EPOCHS):\n",
        "    print(f\"EPOCH {epoch+1}\")\n",
        "    start = time.perf_counter()\n",
        "    epoch_loss_history = []\n",
        "\n",
        "  \n",
        "    for review_tens in review_loader:\n",
        "        review_tens = review_tens.to(device)\n",
        "                \n",
        "        # sequence ready, process it trough the model\n",
        "        optimizer.zero_grad()\n",
        "        outputs = model(review_tens, labels=review_tens)\n",
        "        loss, logits = outputs[:2]                        \n",
        "        loss.backward()\n",
        "        epoch_loss_history.append(loss.detach().item())\n",
        "                       \n",
        "        reviews_count += 1\n",
        "        if reviews_count == BATCH_SIZE:\n",
        "            reviews_count = 0\n",
        "            batch_count += 1\n",
        "            optimizer.step()\n",
        "            scheduler.step() \n",
        "\n",
        "        if batch_count == print_loss_every:\n",
        "            batch_count = 0\n",
        "            avg_loss = np.array(epoch_loss_history)[-print_loss_every*BATCH_SIZE+1:].mean()\n",
        "            print(f'Avg. loss: {avg_loss:.4f}')\n",
        "    \n",
        "    loss_history.append(torch.tensor(epoch_loss_history))\n",
        "    end = time.perf_counter()\n",
        "    print(f'The epoch has been trained in {end-start:.2f} seconds.\\n')\n",
        "    # store the model after each epoch to compare the performance of them\n",
        "    torch.save(model.state_dict(), os.path.join(models_dir, f\"review_model_e{epoch+1}.pt\"))"
      ],
      "execution_count": 31,
      "outputs": [
        {
          "output_type": "stream",
          "text": [
            "EPOCH 1\n",
            "Avg. loss: 3.0681\n",
            "Avg. loss: 2.6747\n",
            "Avg. loss: 2.6207\n",
            "Training the epoch has been finished in 1396.96 seconds.\n",
            "EPOCH 2\n",
            "Avg. loss: 2.6118\n",
            "Avg. loss: 2.5860\n",
            "Avg. loss: 2.5390\n",
            "Training the epoch has been finished in 1408.27 seconds.\n",
            "EPOCH 3\n",
            "Avg. loss: 2.5256\n",
            "Avg. loss: 2.4698\n",
            "Avg. loss: 2.4672\n",
            "Training the epoch has been finished in 1409.33 seconds.\n",
            "EPOCH 4\n",
            "Avg. loss: 2.4089\n",
            "Avg. loss: 2.3963\n",
            "Avg. loss: 2.3858\n",
            "Training the epoch has been finished in 1410.07 seconds.\n",
            "EPOCH 5\n",
            "Avg. loss: 2.3334\n",
            "Avg. loss: 2.3009\n",
            "Avg. loss: 2.3173\n",
            "Training the epoch has been finished in 1410.17 seconds.\n",
            "EPOCH 6\n",
            "Avg. loss: 2.2501\n",
            "Avg. loss: 2.2550\n",
            "Avg. loss: 2.2553\n",
            "Training the epoch has been finished in 1409.09 seconds.\n",
            "EPOCH 7\n",
            "Avg. loss: 2.1990\n",
            "Avg. loss: 2.1866\n",
            "Avg. loss: 2.2172\n",
            "Training the epoch has been finished in 1409.27 seconds.\n",
            "EPOCH 8\n",
            "Avg. loss: 2.1662\n",
            "Avg. loss: 2.1816\n",
            "Avg. loss: 2.1591\n",
            "Training the epoch has been finished in 1410.19 seconds.\n"
          ],
          "name": "stdout"
        }
      ]
    },
    {
      "cell_type": "markdown",
      "metadata": {
        "id": "N81rgHj-nkIf",
        "colab_type": "text"
      },
      "source": [
        "# Evaluate model"
      ]
    },
    {
      "cell_type": "code",
      "metadata": {
        "id": "NuNWJIUZYSWJ",
        "colab_type": "code",
        "colab": {}
      },
      "source": [
        "def load_model(filename):\n",
        "    model = GPT2LMHeadModel.from_pretrained('gpt2')\n",
        "    model.to(device)\n",
        "    model.load_state_dict(torch.load(filename))\n",
        "    model.eval()\n",
        "\n",
        "    return model"
      ],
      "execution_count": 33,
      "outputs": []
    },
    {
      "cell_type": "code",
      "metadata": {
        "id": "oREjFnwxJKLy",
        "colab_type": "code",
        "colab": {}
      },
      "source": [
        "def create_evaluation_report(model, tokenizer, gen_params_list, meta_info):\n",
        "    wrapped = ModelWrapper(model, tokenizer)\n",
        "    report = 'Book Review Generation Model\\n'\n",
        "\n",
        "    def add_reviews(report, reviews):\n",
        "        for idx, review in enumerate(reviews):\n",
        "            report += f'\\tReview {idx+1}:\\n\\t{review}\\n'\n",
        "        return report+'\\n'\n",
        "    \n",
        "    for key in meta_info:\n",
        "        if meta_info[key]:\n",
        "            report += f'{key}: {meta_info[key]}\\n'\n",
        "    report += '\\n'\n",
        "    \n",
        "    for idx, params in enumerate(gen_params_list):\n",
        "        wrapped.set_generation_settings(params)\n",
        "        report += '-'*20+'\\n'\n",
        "        report += f'GENERATION PARAMS V{idx+1}\\n'\n",
        "        report += ' | '.join([ f'{key}: {params[key]}' for key in params ])\n",
        "        report += '\\n\\n'\n",
        "        \n",
        "        # TEST 1\n",
        "        report += 'TEST 1: Positive vs Negative Reviews\\n\\n'\n",
        "        report += 'Category: POSITIVE\\n'\n",
        "        report = add_reviews(report, wrapped.generate(category='positive'))\n",
        "        report += 'Category: NEGATIVE\\n'\n",
        "        report = add_reviews(report, wrapped.generate(category='negative'))\n",
        "\n",
        "        # TEST 2\n",
        "        report += 'TEST 2: Keywords\\n\\n'\n",
        "        report += 'Keywords: BORING\\n'\n",
        "        report = add_reviews(report, wrapped.generate(keywords=['boring']))\n",
        "        report += 'Keywords: TWILIGHT\\n'\n",
        "        report = add_reviews(report, wrapped.generate(keywords=['twilight']))\n",
        "        report += 'Keywords: SEX\\n'\n",
        "        report = add_reviews(report, wrapped.generate(keywords=['sex']))\n",
        "        report += 'Keywords: TREE, DOG\\n'\n",
        "        report = add_reviews(report, wrapped.generate(keywords=['tree', 'dog']))\n",
        "\n",
        "    return report\n"
      ],
      "execution_count": 87,
      "outputs": []
    },
    {
      "cell_type": "code",
      "metadata": {
        "id": "6AVEvf1s44eX",
        "colab_type": "code",
        "colab": {}
      },
      "source": [
        "meta_info = {\n",
        "    'epoch': 8,\n",
        "    'learning_rate': LEARNING_RATE,\n",
        "    'batch_size': BATCH_SIZE,\n",
        "    'scheduler': 'linear warmup 0.25'\n",
        "}"
      ],
      "execution_count": 41,
      "outputs": []
    },
    {
      "cell_type": "code",
      "metadata": {
        "id": "I1FnAnKhGlz0",
        "colab_type": "code",
        "colab": {
          "base_uri": "https://localhost:8080/",
          "height": 71
        },
        "outputId": "6de16c55-5b00-4322-f654-fabb5cf8e6bc"
      },
      "source": [
        "model = load_model(f'models/review_model_e{meta_info[\"epoch\"]}.pt')\n",
        "tokenizer = GPT2Tokenizer.from_pretrained('gpt2', model_max_length=1024)"
      ],
      "execution_count": 34,
      "outputs": [
        {
          "output_type": "stream",
          "text": [
            "Some weights of GPT2LMHeadModel were not initialized from the model checkpoint at gpt2 and are newly initialized: ['h.0.attn.masked_bias', 'h.1.attn.masked_bias', 'h.2.attn.masked_bias', 'h.3.attn.masked_bias', 'h.4.attn.masked_bias', 'h.5.attn.masked_bias', 'h.6.attn.masked_bias', 'h.7.attn.masked_bias', 'h.8.attn.masked_bias', 'h.9.attn.masked_bias', 'h.10.attn.masked_bias', 'h.11.attn.masked_bias', 'lm_head.weight']\n",
            "You should probably TRAIN this model on a down-stream task to be able to use it for predictions and inference.\n"
          ],
          "name": "stderr"
        }
      ]
    },
    {
      "cell_type": "code",
      "metadata": {
        "id": "vIiwDEkvoCLE",
        "colab_type": "code",
        "colab": {
          "base_uri": "https://localhost:8080/",
          "height": 1000
        },
        "outputId": "eec315da-3f6b-438c-a601-0288a2c049ea"
      },
      "source": [
        "report = create_evaluation_report(model, tokenizer, [\n",
        "                                            { 'top_p': 0.92, 'top_k': 0, 'temperature': 0.7, 'num_return_sequences': 2 }\n",
        "                                            ], meta_info)\n",
        "\n",
        "print(report)"
      ],
      "execution_count": 88,
      "outputs": [
        {
          "output_type": "stream",
          "text": [
            "Setting `pad_token_id` to 50256 (first `eos_token_id`) to generate sequence\n",
            "Setting `pad_token_id` to 50256 (first `eos_token_id`) to generate sequence\n",
            "Setting `pad_token_id` to 50256 (first `eos_token_id`) to generate sequence\n",
            "Setting `pad_token_id` to 50256 (first `eos_token_id`) to generate sequence\n",
            "Setting `pad_token_id` to 50256 (first `eos_token_id`) to generate sequence\n",
            "Setting `pad_token_id` to 50256 (first `eos_token_id`) to generate sequence\n"
          ],
          "name": "stderr"
        },
        {
          "output_type": "stream",
          "text": [
            "Book Review Generation Model\n",
            "epoch: 8\n",
            "learning_rate: 0.0001\n",
            "batch_size: 5\n",
            "scheduler: linear warmup 0.25\n",
            "\n",
            "--------------------\n",
            "GENERATION PARAMS V1\n",
            "top_p: 0.92 | top_k: 0 | temperature: 0.7 | num_return_sequences: 2\n",
            "\n",
            "TEST 1: Positive vs Negative Reviews\n",
            "\n",
            "Category: POSITIVE\n",
            "\tReview 1:\n",
            "\tI loved the historical setting of this book. I found the characters to be well developed. I highly recommend this book.\n",
            "\tReview 2:\n",
            "\tI read this book on my way to a weekend retreat at a local resort. I love the setting and the characters. I felt like the author was trying to make me feel good about myself and not the others. It's definitely not a book for the timid, it's for the brave and the strong. It's also a book to keep the kids interested in.\n",
            "\n",
            "Category: NEGATIVE\n",
            "\tReview 1:\n",
            "\tThe book is well written, but the characters were just plain annoying. The story is told in alternating chapters. It's not that they are all bad, but that the story is repetitive. It's not that the story is terrible. It's that the story is predictable.\n",
            "\tReview 2:\n",
            "\tI don't think I've ever read a book with such an almost obsessive following. I read this book because I wanted to know what all the fuss was about. Well, I guess I didn't really care.I had heard that the book is about vampires, but I thought the author was doing something different with the story. He wrote a book about vampires, but I didn't really care about the characters. And I don't think I've ever read a book with such an almost obsessive following. I read this book because I wanted to know what all the fuss was about. Well, I guess I didn't really care.I had heard that the book is about vampires, but I thought the author was doing something different with the story. He wrote a book about vampires, but I didn't really care about the characters. And I don't think I've ever read a book with such an almost obsessive following. I read this book because I wanted to know what all the fuss was about. Well, I guess I didn't really care.I had heard that the book is about vampires, but I thought the author was doing something different with the story. He wrote a book about vampires, but I didn't really care about the characters. And I don't think I've ever read a book with such an almost obsessive following. I read this book because I wanted to know what all the fuss was about. Well, I guess I didn't really care.I had heard that the book is about vampires, but I thought the author was doing something different with the story. He wrote a book about vampires, but I didn't really care about the characters. And I don't think I've ever read a book with such an almost obsessive following. I read this book because I wanted to know what all the fuss was about. Well, I guess I didn't really care.I had heard that the book is about vampires, but I thought the author was doing something different with the story. He wrote a book about vampires, but I didn't really care about the characters. And I don't think I've ever read a book with such an almost obsessive following. I read this book because I wanted to know what all the fuss was about. Well, I guess I didn't really care.I had heard that the book is about vampires, but I thought the author was doing something different with the story. He wrote a book about vampires, but I didn't really care about\n",
            "\n",
            "TEST 2: Keywords\n",
            "\n",
            "Keywords: BORING\n",
            "\tReview 1:\n",
            "\tMy favorite part of this book is when Cal and his mom go to a beach together. They find that they are both so very different. So they end up hanging out together and they begin to have an affair. I can't wait to read the rest of the series!\n",
            "\tReview 2:\n",
            "\tI was excited to read this book after reading the rave reviews. I had never really thought of this book until I was reading it. It was interesting to hear about the different characters and their lives and the stories they told themselves. I liked the characters and the story. I would recommend it to people who like to read about their life.\n",
            "\n",
            "Keywords: TWILIGHT\n",
            "\tReview 1:\n",
            "\tI loved Twilight, and it was an interesting book to read and I loved the author's thoughts on the book. I especially liked the Twilight/Twilight themed storyline. I'm not sure I'd recommend this book to a teen, but it was an enjoyable read.\n",
            "\tReview 2:\n",
            "\tI love to read about the life of a teenage girl who is always on the edge of her seat, constantly on the edge of her life. I can't wait to read the next book in this series.\n",
            "\n",
            "Keywords: SEX\n",
            "\tReview 1:\n",
            "\tI am a big fan of all of the YA books, so I have always wanted to read this series. This one is really sad. I am so sad that this story ended like that. The characters are very interesting and the story is interesting, but I am not sure that I would have read it otherwise. I did enjoy the last chapter, but I am not sure if I will continue to read it. I will just have to read the next book.\n",
            "\tReview 2:\n",
            "\tI really wanted to like this book, but it was way too long. It was like a porno.\n",
            "\n",
            "Keywords: TREE, DOG\n",
            "\tReview 1:\n",
            "\tA book club selection. It's a bit weird and hard to explain. I've been a huge fan of the BBC since I was a child, and so I was curious to see what all the fuss was about. The book was really interesting, and I'm not sure I'm going to be reading the rest of the series. I'm sure the plot is interesting, but I'm not sure I think I'll be enjoying the rest of the series.\n",
            "\tReview 2:\n",
            "\tI have to admit I'm a little disappointed. I think the main reason I kept reading this book was because I was anticipating a book set in the US. I found the book to be a bit tedious and just a bit...funny. I really didn't like the writing style of this book. The book was so over the top that it seemed like the author was trying to make you feel like she was doing a conversation with the dog. I also found the descriptions of the dogs to be rather boring and not very well drawn. I also found the descriptions of the sea and the waves to be quite graphic. I also found the dog's name and the title \"Diver\" to be a bit misleading and I didn't think it was appropriate to use that name. Overall I was looking forward to reading the next book in this series.\n",
            "\n",
            "\n"
          ],
          "name": "stdout"
        }
      ]
    },
    {
      "cell_type": "code",
      "metadata": {
        "id": "dIH1j6JioHAb",
        "colab_type": "code",
        "colab": {
          "base_uri": "https://localhost:8080/",
          "height": 224
        },
        "outputId": "6a825261-3bfd-416c-faa2-3653b0f12b74"
      },
      "source": [
        "wrapped = ModelWrapper(model, tokenizer)\n",
        "wrapped.set_generation_settings({ 'top_p': 0.92, 'top_k': 0, 'temperature': 0.7, 'num_return_sequences': 5 })\n",
        "reviews = wrapped.generate(keywords=['harry'])\n",
        "for review in reviews:\n",
        "    print(review+'\\n')"
      ],
      "execution_count": 92,
      "outputs": [
        {
          "output_type": "stream",
          "text": [
            "Setting `pad_token_id` to 50256 (first `eos_token_id`) to generate sequence\n"
          ],
          "name": "stderr"
        },
        {
          "output_type": "stream",
          "text": [
            "This book was a total let-down for me. The writing was horrendous. I kept hoping for something good to come out of it. Instead, the main character, Charlotte, was so predictable and annoying and nothing happened. The characters were all so flat and dull and I couldn't get past the last sentence. I had to keep reading hoping that something would come of it and that it would change things for the better. Nothing really did. I was a bit disappointed in the ending. I did love the story and I was hoping for something more to come out of it but it just didn't happen. I thought the ending was way too realistic. I had a hard time getting past the first chapter and it was pretty painful. It was like the book was trying to make you believe that the author was trying to tell a good story. It was just so unrealistic.I really didn't like this book. I feel that the author is trying to make Charlotte the most unlikable character in the book and I found that unrealistic. I feel like she would have a very difficult time getting into the book and that she would just want to be happy and happy and happy.I don't like that this book was written by a woman. I found the writing to be extremely tedious and had to force myself to finish it. I think that the author could have done a better job with Charlotte's personality. I also feel that she would have been able to get herself into the book more easily and she would have been able to overcome all of the negative emotions she had. I also feel that she would have been able to deal with all of the negative emotions she had. She would have been able to overcome all of the fear she had. I also feel that the ending was just too unbelievable and I was hoping for something more to come out of it. I think that the author could have done a better job with Charlotte's personality. I also feel that she would have been able to deal with all of the negative emotions she had. I also feel that the author could have done a better job with Charlotte's personality. I also feel that the ending was just too unbelievable and I was hoping for something more to come out of it. I think that the author could have done a better job with Charlotte's personality. I also feel that the ending was just too unbelievable and I was hoping for something more to come out of it. I think that the author could have done a better job with\n",
            "\n",
            "I really liked this book. I read it for the first time in the last couple of weeks and I am so glad I did. I love the way the author takes the reader on a journey and explores the amazing things that happen in our world. The characters are so real, I feel like I am at a crossroads.\n",
            "\n",
            "I was excited to read this book because I've been wanting to read it since I was in high school, and I loved it. I didn't know the story and the characters were so weird that I couldn't figure out why they were there. The plot was interesting, and the book was well written. I love the idea of a kid who is raised in the 1930s, and the history of this place. The story is told in alternating chapters, each chapter focusing on the life of a person in the 1930s, and the life of a person today. There are a few scenes that are also narrated by a different person, and I found the way that the author went about narrating the story interesting, and it's very easy to see why the book was so popular. I'm not sure I understand why the author chose to go into the 1930s, but I think that the reason why it was so popular is because it's a historical and cultural history of the time.\n",
            "\n",
            "I was really excited to read this book. I was really disappointed in the ending. It was a bit predictable at times, but the story was moving and I enjoyed it. I am definitely looking forward to seeing the movie!\n",
            "\n",
            "This was the first book of this series that I've read by the same author I wrote The Lovely Bones, and it was a very easy read. The chapters alternate between flashbacks to the past and present of the author.\n",
            "\n"
          ],
          "name": "stdout"
        }
      ]
    },
    {
      "cell_type": "code",
      "metadata": {
        "id": "PYbaMOwnEzxT",
        "colab_type": "code",
        "colab": {}
      },
      "source": [
        ""
      ],
      "execution_count": null,
      "outputs": []
    }
  ]
}