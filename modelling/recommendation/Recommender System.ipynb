{
 "cells": [
  {
   "cell_type": "code",
   "execution_count": 1,
   "metadata": {},
   "outputs": [],
   "source": [
    "import pandas as pd\n",
    "from scipy.sparse import csr_matrix"
   ]
  },
  {
   "cell_type": "code",
   "execution_count": 2,
   "metadata": {},
   "outputs": [],
   "source": [
    "books_df = pd.read_csv('../data/books.csv')\n",
    "reviews_df = pd.read_csv('../data/reviews.csv')"
   ]
  },
  {
   "cell_type": "code",
   "execution_count": 15,
   "metadata": {},
   "outputs": [
    {
     "data": {
      "text/html": [
       "<div>\n",
       "<style scoped>\n",
       "    .dataframe tbody tr th:only-of-type {\n",
       "        vertical-align: middle;\n",
       "    }\n",
       "\n",
       "    .dataframe tbody tr th {\n",
       "        vertical-align: top;\n",
       "    }\n",
       "\n",
       "    .dataframe thead th {\n",
       "        text-align: right;\n",
       "    }\n",
       "</style>\n",
       "<table border=\"1\" class=\"dataframe\">\n",
       "  <thead>\n",
       "    <tr style=\"text-align: right;\">\n",
       "      <th></th>\n",
       "      <th>book_id</th>\n",
       "      <th>user_id</th>\n",
       "      <th>user_rating</th>\n",
       "      <th>user_review</th>\n",
       "    </tr>\n",
       "  </thead>\n",
       "  <tbody>\n",
       "    <tr>\n",
       "      <th>0</th>\n",
       "      <td>1893</td>\n",
       "      <td>1</td>\n",
       "      <td>5</td>\n",
       "      <td>**spoiler alert** So the other day Elizabeth a...</td>\n",
       "    </tr>\n",
       "    <tr>\n",
       "      <th>1</th>\n",
       "      <td>5544</td>\n",
       "      <td>1</td>\n",
       "      <td>5</td>\n",
       "      <td>This book was a pure delight. The subtitle \"Ad...</td>\n",
       "    </tr>\n",
       "    <tr>\n",
       "      <th>2</th>\n",
       "      <td>2612</td>\n",
       "      <td>1</td>\n",
       "      <td>4</td>\n",
       "      <td>Really good book. It read like a bestseller (q...</td>\n",
       "    </tr>\n",
       "    <tr>\n",
       "      <th>3</th>\n",
       "      <td>368593</td>\n",
       "      <td>1</td>\n",
       "      <td>5</td>\n",
       "      <td>I found this book on a recommendation from a g...</td>\n",
       "    </tr>\n",
       "    <tr>\n",
       "      <th>4</th>\n",
       "      <td>20873740</td>\n",
       "      <td>1</td>\n",
       "      <td>5</td>\n",
       "      <td>I haven't read a ton of \"history of the world\"...</td>\n",
       "    </tr>\n",
       "  </tbody>\n",
       "</table>\n",
       "</div>"
      ],
      "text/plain": [
       "    book_id  user_id  user_rating  \\\n",
       "0      1893        1            5   \n",
       "1      5544        1            5   \n",
       "2      2612        1            4   \n",
       "3    368593        1            5   \n",
       "4  20873740        1            5   \n",
       "\n",
       "                                         user_review  \n",
       "0  **spoiler alert** So the other day Elizabeth a...  \n",
       "1  This book was a pure delight. The subtitle \"Ad...  \n",
       "2  Really good book. It read like a bestseller (q...  \n",
       "3  I found this book on a recommendation from a g...  \n",
       "4  I haven't read a ton of \"history of the world\"...  "
      ]
     },
     "execution_count": 15,
     "metadata": {},
     "output_type": "execute_result"
    }
   ],
   "source": [
    "reviews_df.head()"
   ]
  },
  {
   "cell_type": "code",
   "execution_count": 9,
   "metadata": {},
   "outputs": [
    {
     "name": "stdout",
     "output_type": "stream",
     "text": [
      "Number of users: 13143 | Number of books: 258473\n"
     ]
    }
   ],
   "source": [
    "n_users = reviews_df.user_id.unique().shape[0]\n",
    "n_books = books_df.book_id.unique().shape[0]\n",
    "print(f'Number of users: {n_users} | Number of books: {n_books}')"
   ]
  },
  {
   "cell_type": "code",
   "execution_count": 5,
   "metadata": {},
   "outputs": [
    {
     "data": {
      "text/plain": [
       "4981"
      ]
     },
     "execution_count": 5,
     "metadata": {},
     "output_type": "execute_result"
    }
   ],
   "source": [
    "books_popularity = reviews_df.groupby(['book_id']).count()\n",
    "popular_books_id = books_popularity[books_popularity['user_id']> 20].index.to_list()\n",
    "popular_reviews_df = reviews_df.loc[reviews_df['book_id'].isin(popular_books_id)]\n",
    "popular_reviews_df = popular_reviews_df.drop(columns = ['user_review']) \n",
    "popular_reviews_df['book_id'].unique().shape[0]"
   ]
  },
  {
   "cell_type": "code",
   "execution_count": 52,
   "metadata": {},
   "outputs": [],
   "source": [
    "# books_matrix = popular_reviews_df.pivot_table(index='user_id', columns='book_id', values='user_rating')\n",
    "# books_matrix.head()"
   ]
  },
  {
   "cell_type": "code",
   "execution_count": 50,
   "metadata": {},
   "outputs": [],
   "source": [
    "# pivot ratings into movie features\n",
    "# books_df_features = popular_reviews_df.pivot(\n",
    "#     index='book_id',\n",
    "#     columns='user_id',\n",
    "#     values='user_rating'\n",
    "# ).fillna(0)\n",
    "# convert dataframe of movie features to scipy sparse matrix\n",
    "# books_mat_features = csr_matrix(books_df_features.values)"
   ]
  },
  {
   "cell_type": "code",
   "execution_count": 7,
   "metadata": {},
   "outputs": [
    {
     "data": {
      "text/plain": [
       "book_id      0         1\n",
       "             1         1\n",
       "             2         1\n",
       "             3         1\n",
       "             4         1\n",
       "                      ..\n",
       "user_rating  422277    4\n",
       "             422278    5\n",
       "             422279    3\n",
       "             422280    5\n",
       "             422281    5\n",
       "Length: 1266846, dtype: int64"
      ]
     },
     "execution_count": 7,
     "metadata": {},
     "output_type": "execute_result"
    }
   ],
   "source": [
    "books_df_features = popular_reviews_df.groupby(['book_id','user_id'], as_index=False)['user_rating'].max().unstack()\n",
    "# convert dataframe of movie features to scipy sparse matrix\n",
    "books_mat_features = csr_matrix(books_df_features.values)\n",
    "books_df_features"
   ]
  },
  {
   "cell_type": "code",
   "execution_count": null,
   "metadata": {},
   "outputs": [],
   "source": []
  }
 ],
 "metadata": {
  "kernelspec": {
   "display_name": "Python 3",
   "language": "python",
   "name": "python3"
  },
  "language_info": {
   "codemirror_mode": {
    "name": "ipython",
    "version": 3
   },
   "file_extension": ".py",
   "mimetype": "text/x-python",
   "name": "python",
   "nbconvert_exporter": "python",
   "pygments_lexer": "ipython3",
   "version": "3.7.1"
  }
 },
 "nbformat": 4,
 "nbformat_minor": 2
}
